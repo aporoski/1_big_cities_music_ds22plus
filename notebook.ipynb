{
 "cells": [
  {
   "cell_type": "markdown",
   "metadata": {
    "deletable": false,
    "editable": false,
    "id": "E0vqbgi9ay0H"
   },
   "source": [
    "# Яндекс Музыка"
   ]
  },
  {
   "cell_type": "markdown",
   "metadata": {
    "deletable": false,
    "editable": false,
    "id": "VUC88oWjTJw2"
   },
   "source": [
    "Сравнение Москвы и Петербурга окружено мифами. Например:\n",
    " * Москва — мегаполис, подчинённый жёсткому ритму рабочей недели;\n",
    " * Петербург — культурная столица, со своими вкусами.\n",
    "\n",
    "На данных Яндекс Музыки вы сравните поведение пользователей двух столиц.\n",
    "\n",
    "**Цель исследования** — проверьте три гипотезы:\n",
    "1. Активность пользователей зависит от дня недели. Причём в Москве и Петербурге это проявляется по-разному.\n",
    "2. В понедельник утром в Москве преобладают одни жанры, а в Петербурге — другие. Так же и вечером пятницы преобладают разные жанры — в зависимости от города. \n",
    "3. Москва и Петербург предпочитают разные жанры музыки. В Москве чаще слушают поп-музыку, в Петербурге — русский рэп.\n",
    "\n",
    "**Ход исследования**\n",
    "\n",
    "Данные о поведении пользователей вы получите из файла `yandex_music_project.csv`. О качестве данных ничего не известно. Поэтому перед проверкой гипотез понадобится обзор данных. \n",
    "\n",
    "Вы проверите данные на ошибки и оцените их влияние на исследование. Затем, на этапе предобработки вы поищете возможность исправить самые критичные ошибки данных.\n",
    " \n",
    "Таким образом, исследование пройдёт в три этапа:\n",
    " 1. Обзор данных.\n",
    " 2. Предобработка данных.\n",
    " 3. Проверка гипотез.\n",
    "\n"
   ]
  },
  {
   "cell_type": "markdown",
   "metadata": {},
   "source": [
    "## Обзор данных\n",
    "\n",
    "Составьте первое представление о данных Яндекс Музыки."
   ]
  },
  {
   "cell_type": "markdown",
   "metadata": {
    "deletable": false,
    "editable": false,
    "id": "Ml1hmfXC_Zcs"
   },
   "source": [
    "## Обзор данных\n",
    "\n",
    "Составьте первое представление о данных Яндекс Музыки.\n",
    "\n",
    "\n"
   ]
  },
  {
   "cell_type": "markdown",
   "metadata": {
    "deletable": false,
    "editable": false,
    "id": "57eAOGIz_Zcs",
    "tags": [
     "start_task"
    ]
   },
   "source": [
    "**Задание 1**\n",
    "\n",
    "Основной инструмент аналитика — `pandas`. Импортируйте эту библиотеку."
   ]
  },
  {
   "cell_type": "code",
   "execution_count": 1,
   "metadata": {
    "deletable": false,
    "id": "AXN7PHPN_Zcs"
   },
   "outputs": [],
   "source": [
    "# импорт библиотеки pandas\n",
    "import pandas as pd "
   ]
  },
  {
   "cell_type": "markdown",
   "metadata": {
    "deletable": false,
    "editable": false,
    "id": "SG23P8tt_Zcs",
    "tags": [
     "start_task"
    ]
   },
   "source": [
    "**Задание 2**\n",
    "\n",
    "Прочитайте файл `yandex_music_project.csv` из папки `/datasets` и сохраните его в переменной `df`:"
   ]
  },
  {
   "cell_type": "code",
   "execution_count": 10,
   "metadata": {
    "deletable": false,
    "id": "fFVu7vqh_Zct"
   },
   "outputs": [],
   "source": [
    "# чтение файла с данными и сохранение в df\n",
    "df=pd.read_csv('/datasets/yandex_music_project.csv')"
   ]
  },
  {
   "cell_type": "markdown",
   "metadata": {
    "deletable": false,
    "editable": false,
    "id": "rDoOMd3uTqnZ",
    "tags": [
     "start_task"
    ]
   },
   "source": [
    "**Задание 3**\n",
    "\n",
    "\n",
    "Выведите на экран первые десять строк таблицы:"
   ]
  },
  {
   "cell_type": "code",
   "execution_count": 11,
   "metadata": {
    "deletable": false,
    "id": "oWTVX3gW_Zct"
   },
   "outputs": [
    {
     "data": {
      "text/html": [
       "<div>\n",
       "<style scoped>\n",
       "    .dataframe tbody tr th:only-of-type {\n",
       "        vertical-align: middle;\n",
       "    }\n",
       "\n",
       "    .dataframe tbody tr th {\n",
       "        vertical-align: top;\n",
       "    }\n",
       "\n",
       "    .dataframe thead th {\n",
       "        text-align: right;\n",
       "    }\n",
       "</style>\n",
       "<table border=\"1\" class=\"dataframe\">\n",
       "  <thead>\n",
       "    <tr style=\"text-align: right;\">\n",
       "      <th></th>\n",
       "      <th>userID</th>\n",
       "      <th>Track</th>\n",
       "      <th>artist</th>\n",
       "      <th>genre</th>\n",
       "      <th>City</th>\n",
       "      <th>time</th>\n",
       "      <th>Day</th>\n",
       "    </tr>\n",
       "  </thead>\n",
       "  <tbody>\n",
       "    <tr>\n",
       "      <th>0</th>\n",
       "      <td>FFB692EC</td>\n",
       "      <td>Kamigata To Boots</td>\n",
       "      <td>The Mass Missile</td>\n",
       "      <td>rock</td>\n",
       "      <td>Saint-Petersburg</td>\n",
       "      <td>20:28:33</td>\n",
       "      <td>Wednesday</td>\n",
       "    </tr>\n",
       "    <tr>\n",
       "      <th>1</th>\n",
       "      <td>55204538</td>\n",
       "      <td>Delayed Because of Accident</td>\n",
       "      <td>Andreas Rönnberg</td>\n",
       "      <td>rock</td>\n",
       "      <td>Moscow</td>\n",
       "      <td>14:07:09</td>\n",
       "      <td>Friday</td>\n",
       "    </tr>\n",
       "    <tr>\n",
       "      <th>2</th>\n",
       "      <td>20EC38</td>\n",
       "      <td>Funiculì funiculà</td>\n",
       "      <td>Mario Lanza</td>\n",
       "      <td>pop</td>\n",
       "      <td>Saint-Petersburg</td>\n",
       "      <td>20:58:07</td>\n",
       "      <td>Wednesday</td>\n",
       "    </tr>\n",
       "    <tr>\n",
       "      <th>3</th>\n",
       "      <td>A3DD03C9</td>\n",
       "      <td>Dragons in the Sunset</td>\n",
       "      <td>Fire + Ice</td>\n",
       "      <td>folk</td>\n",
       "      <td>Saint-Petersburg</td>\n",
       "      <td>08:37:09</td>\n",
       "      <td>Monday</td>\n",
       "    </tr>\n",
       "    <tr>\n",
       "      <th>4</th>\n",
       "      <td>E2DC1FAE</td>\n",
       "      <td>Soul People</td>\n",
       "      <td>Space Echo</td>\n",
       "      <td>dance</td>\n",
       "      <td>Moscow</td>\n",
       "      <td>08:34:34</td>\n",
       "      <td>Monday</td>\n",
       "    </tr>\n",
       "    <tr>\n",
       "      <th>5</th>\n",
       "      <td>842029A1</td>\n",
       "      <td>Преданная</td>\n",
       "      <td>IMPERVTOR</td>\n",
       "      <td>rusrap</td>\n",
       "      <td>Saint-Petersburg</td>\n",
       "      <td>13:09:41</td>\n",
       "      <td>Friday</td>\n",
       "    </tr>\n",
       "    <tr>\n",
       "      <th>6</th>\n",
       "      <td>4CB90AA5</td>\n",
       "      <td>True</td>\n",
       "      <td>Roman Messer</td>\n",
       "      <td>dance</td>\n",
       "      <td>Moscow</td>\n",
       "      <td>13:00:07</td>\n",
       "      <td>Wednesday</td>\n",
       "    </tr>\n",
       "    <tr>\n",
       "      <th>7</th>\n",
       "      <td>F03E1C1F</td>\n",
       "      <td>Feeling This Way</td>\n",
       "      <td>Polina Griffith</td>\n",
       "      <td>dance</td>\n",
       "      <td>Moscow</td>\n",
       "      <td>20:47:49</td>\n",
       "      <td>Wednesday</td>\n",
       "    </tr>\n",
       "    <tr>\n",
       "      <th>8</th>\n",
       "      <td>8FA1D3BE</td>\n",
       "      <td>И вновь продолжается бой</td>\n",
       "      <td>NaN</td>\n",
       "      <td>ruspop</td>\n",
       "      <td>Moscow</td>\n",
       "      <td>09:17:40</td>\n",
       "      <td>Friday</td>\n",
       "    </tr>\n",
       "    <tr>\n",
       "      <th>9</th>\n",
       "      <td>E772D5C0</td>\n",
       "      <td>Pessimist</td>\n",
       "      <td>NaN</td>\n",
       "      <td>dance</td>\n",
       "      <td>Saint-Petersburg</td>\n",
       "      <td>21:20:49</td>\n",
       "      <td>Wednesday</td>\n",
       "    </tr>\n",
       "  </tbody>\n",
       "</table>\n",
       "</div>"
      ],
      "text/plain": [
       "     userID                        Track            artist   genre  \\\n",
       "0  FFB692EC            Kamigata To Boots  The Mass Missile    rock   \n",
       "1  55204538  Delayed Because of Accident  Andreas Rönnberg    rock   \n",
       "2    20EC38            Funiculì funiculà       Mario Lanza     pop   \n",
       "3  A3DD03C9        Dragons in the Sunset        Fire + Ice    folk   \n",
       "4  E2DC1FAE                  Soul People        Space Echo   dance   \n",
       "5  842029A1                    Преданная         IMPERVTOR  rusrap   \n",
       "6  4CB90AA5                         True      Roman Messer   dance   \n",
       "7  F03E1C1F             Feeling This Way   Polina Griffith   dance   \n",
       "8  8FA1D3BE     И вновь продолжается бой               NaN  ruspop   \n",
       "9  E772D5C0                    Pessimist               NaN   dance   \n",
       "\n",
       "             City        time        Day  \n",
       "0  Saint-Petersburg  20:28:33  Wednesday  \n",
       "1            Moscow  14:07:09     Friday  \n",
       "2  Saint-Petersburg  20:58:07  Wednesday  \n",
       "3  Saint-Petersburg  08:37:09     Monday  \n",
       "4            Moscow  08:34:34     Monday  \n",
       "5  Saint-Petersburg  13:09:41     Friday  \n",
       "6            Moscow  13:00:07  Wednesday  \n",
       "7            Moscow  20:47:49  Wednesday  \n",
       "8            Moscow  09:17:40     Friday  \n",
       "9  Saint-Petersburg  21:20:49  Wednesday  "
      ]
     },
     "execution_count": 11,
     "metadata": {},
     "output_type": "execute_result"
    }
   ],
   "source": [
    "df.head(10)"
   ]
  },
  {
   "cell_type": "markdown",
   "metadata": {
    "deletable": false,
    "editable": false,
    "id": "EO73Kwic_Zct",
    "tags": [
     "start_task"
    ]
   },
   "source": [
    "**Задание 4**\n",
    "\n",
    "\n",
    "Одной командой получить общую информацию о таблице c помощью метода `info()`:"
   ]
  },
  {
   "cell_type": "code",
   "execution_count": 12,
   "metadata": {
    "deletable": false,
    "id": "DSf2kIb-_Zct"
   },
   "outputs": [
    {
     "name": "stdout",
     "output_type": "stream",
     "text": [
      "<class 'pandas.core.frame.DataFrame'>\n",
      "RangeIndex: 65079 entries, 0 to 65078\n",
      "Data columns (total 7 columns):\n",
      " #   Column    Non-Null Count  Dtype \n",
      "---  ------    --------------  ----- \n",
      " 0     userID  65079 non-null  object\n",
      " 1   Track     63848 non-null  object\n",
      " 2   artist    57876 non-null  object\n",
      " 3   genre     63881 non-null  object\n",
      " 4     City    65079 non-null  object\n",
      " 5   time      65079 non-null  object\n",
      " 6   Day       65079 non-null  object\n",
      "dtypes: object(7)\n",
      "memory usage: 3.5+ MB\n"
     ]
    }
   ],
   "source": [
    "# получение общей информации о данных в таблице df\n",
    "df.info()"
   ]
  },
  {
   "cell_type": "markdown",
   "metadata": {
    "deletable": false,
    "editable": false,
    "id": "TaQ2Iwbr_Zct"
   },
   "source": [
    "Итак, в таблице семь столбцов. Тип данных во всех столбцах — `object`.\n",
    "\n",
    "Согласно документации к данным:\n",
    "* `userID` — идентификатор пользователя;\n",
    "* `Track` — название трека;  \n",
    "* `artist` — имя исполнителя;\n",
    "* `genre` — название жанра;\n",
    "* `City` — город пользователя;\n",
    "* `time` — время начала прослушивания;\n",
    "* `Day` — день недели.\n",
    "\n",
    "Количество значений в столбцах различается. Значит, в данных есть пропущенные значения."
   ]
  },
  {
   "cell_type": "markdown",
   "metadata": {
    "deletable": false,
    "editable": false,
    "id": "rAfziTBDmf2h",
    "tags": [
     "start_task"
    ]
   },
   "source": [
    "**Задание 5**\n",
    "\n",
    "**Вопрос со свободной формой ответа**\n",
    "\n",
    "В названиях колонок видны нарушения стиля:\n",
    "* Строчные буквы сочетаются с прописными.\n",
    "* Встречаются пробелы.\n",
    "\n",
    "Какое третье нарушение?"
   ]
  },
  {
   "cell_type": "code",
   "execution_count": 13,
   "metadata": {
    "id": "jD8EXEIvmf2h"
   },
   "outputs": [],
   "source": [
    "# Напишите ваш ответ здесь комментарием. Не удаляйте символ #. Не меняйте тип этой ячейки на Markdown.\n",
    "#userID лучше записать в змеином регистре"
   ]
  },
  {
   "cell_type": "markdown",
   "metadata": {
    "deletable": false,
    "editable": false,
    "id": "MCB6-dXG_Zct"
   },
   "source": [
    "**Выводы**\n",
    "\n",
    "В каждой строке таблицы — данные о прослушанном треке. Часть колонок описывает саму композицию: название, исполнителя и жанр. Остальные данные рассказывают о пользователе: из какого он города, когда он слушал музыку. \n",
    "\n",
    "Предварительно можно утверждать, что данных достаточно для проверки гипотез. Но встречаются пропуски в данных, а в названиях колонок — расхождения с хорошим стилем.\n",
    "\n",
    "Чтобы двигаться дальше, нужно устранить проблемы в данных."
   ]
  },
  {
   "cell_type": "markdown",
   "metadata": {
    "deletable": false,
    "editable": false,
    "id": "SjYF6Ub9_Zct"
   },
   "source": [
    "## Предобработка данных\n",
    "Исправьте стиль в заголовках столбцов, исключите пропуски. Затем проверьте данные на дубликаты."
   ]
  },
  {
   "cell_type": "markdown",
   "metadata": {
    "deletable": false,
    "editable": false,
    "id": "dIaKXr29_Zct",
    "tags": [
     "start_task"
    ]
   },
   "source": [
    "### Стиль заголовков\n",
    "\n",
    "**Задание 6**\n",
    "\n",
    "Выведите на экран названия столбцов:"
   ]
  },
  {
   "cell_type": "code",
   "execution_count": 14,
   "metadata": {
    "deletable": false,
    "id": "oKOTdF_Q_Zct"
   },
   "outputs": [
    {
     "data": {
      "text/plain": [
       "Index(['  userID', 'Track', 'artist', 'genre', '  City  ', 'time', 'Day'], dtype='object')"
      ]
     },
     "execution_count": 14,
     "metadata": {},
     "output_type": "execute_result"
    }
   ],
   "source": [
    "# перечень названий столбцов таблицы df\n",
    "df.columns"
   ]
  },
  {
   "cell_type": "markdown",
   "metadata": {
    "deletable": false,
    "editable": false,
    "id": "zj5534cv_Zct",
    "tags": [
     "start_task"
    ]
   },
   "source": [
    "**Задание 7**\n",
    "\n",
    "\n",
    "Приведите названия в соответствие с хорошим стилем:\n",
    "* несколько слов в названии запишите в «змеином_регистре»,\n",
    "* все символы сделайте строчными,\n",
    "* устраните пробелы.\n",
    "\n",
    "Для этого переименуйте колонки так:\n",
    "* `'  userID'` → `'user_id'`;\n",
    "* `'Track'` → `'track'`;\n",
    "* `'  City  '` → `'city'`;\n",
    "* `'Day'` → `'day'`."
   ]
  },
  {
   "cell_type": "code",
   "execution_count": 15,
   "metadata": {
    "deletable": false,
    "id": "ISlFqs5y_Zct"
   },
   "outputs": [],
   "source": [
    "# переименование столбцов\n",
    "df=df.rename(columns = {'  userID':'user_id','Track':'track','  City  ':'city','Day':'day'})"
   ]
  },
  {
   "cell_type": "markdown",
   "metadata": {
    "deletable": false,
    "editable": false,
    "id": "1dqbh00J_Zct",
    "tags": [
     "start_task"
    ]
   },
   "source": [
    "**Задание 8**\n",
    "\n",
    "\n",
    "Проверьте результат. Для этого ещё раз выведите на экран названия столбцов:"
   ]
  },
  {
   "cell_type": "code",
   "execution_count": 16,
   "metadata": {
    "deletable": false,
    "id": "d4NOAmTW_Zct"
   },
   "outputs": [
    {
     "data": {
      "text/plain": [
       "Index(['user_id', 'track', 'artist', 'genre', 'city', 'time', 'day'], dtype='object')"
      ]
     },
     "execution_count": 16,
     "metadata": {},
     "output_type": "execute_result"
    }
   ],
   "source": [
    "# проверка результатов - перечень названий столбцов\n",
    "df.columns"
   ]
  },
  {
   "cell_type": "markdown",
   "metadata": {
    "deletable": false,
    "editable": false,
    "id": "5ISfbcfY_Zct",
    "tags": [
     "start_task"
    ]
   },
   "source": [
    "### Пропуски значений\n",
    "\n",
    "**Задание 9**\n",
    "\n",
    "Сначала посчитайте, сколько в таблице пропущенных значений. Для этого достаточно двух методов `pandas`:"
   ]
  },
  {
   "cell_type": "code",
   "execution_count": 17,
   "metadata": {
    "deletable": false,
    "id": "RskX29qr_Zct"
   },
   "outputs": [
    {
     "data": {
      "text/plain": [
       "user_id       0\n",
       "track      1231\n",
       "artist     7203\n",
       "genre      1198\n",
       "city          0\n",
       "time          0\n",
       "day           0\n",
       "dtype: int64"
      ]
     },
     "execution_count": 17,
     "metadata": {},
     "output_type": "execute_result"
    }
   ],
   "source": [
    "# подсчёт пропусков\n",
    "df.isna().sum()\n"
   ]
  },
  {
   "cell_type": "markdown",
   "metadata": {
    "deletable": false,
    "editable": false,
    "id": "qubhgnlO_Zct"
   },
   "source": [
    "Не все пропущенные значения влияют на исследование. Так в `track` и `artist` пропуски не важны для вашей работы. Достаточно заменить их явными обозначениями.\n",
    "\n",
    "Но пропуски в `genre` могут помешать сравнению музыкальных вкусов в Москве и Санкт-Петербурге. На практике было бы правильно установить причину пропусков и восстановить данные. Такой возможности нет в учебном проекте. Придётся:\n",
    "* заполнить и эти пропуски явными обозначениями;\n",
    "* оценить, насколько они повредят расчётам. "
   ]
  },
  {
   "cell_type": "markdown",
   "metadata": {
    "deletable": false,
    "editable": false,
    "id": "fSv2laPA_Zct",
    "tags": [
     "start_task"
    ]
   },
   "source": [
    "**Задание 10**\n",
    "\n",
    "Замените пропущенные значения в столбцах `track`, `artist` и `genre` на строку `'unknown'`. Для этого создайте список `columns_to_replace`, переберите его элементы циклом `for` и для каждого столбца выполните замену пропущенных значений:"
   ]
  },
  {
   "cell_type": "code",
   "execution_count": 18,
   "metadata": {
    "deletable": false,
    "id": "KplB5qWs_Zct"
   },
   "outputs": [],
   "source": [
    "# перебор названий столбцов в цикле и замена пропущенных значений на 'unknown'\n",
    "df.isna().sum()\n",
    "columns_to_replace=['track','artist','genre']\n",
    "for column in columns_to_replace:\n",
    "    df[column]=df[column].fillna('unknown')"
   ]
  },
  {
   "cell_type": "markdown",
   "metadata": {
    "deletable": false,
    "editable": false,
    "id": "Ilsm-MZo_Zct",
    "tags": [
     "start_task"
    ]
   },
   "source": [
    "**Задание 11**\n",
    "\n",
    "Убедитесь, что в таблице не осталось пропусков. Для этого ещё раз посчитайте пропущенные значения."
   ]
  },
  {
   "cell_type": "code",
   "execution_count": 19,
   "metadata": {
    "deletable": false,
    "id": "Tq4nYRX4_Zct"
   },
   "outputs": [
    {
     "data": {
      "text/plain": [
       "user_id    0\n",
       "track      0\n",
       "artist     0\n",
       "genre      0\n",
       "city       0\n",
       "time       0\n",
       "day        0\n",
       "dtype: int64"
      ]
     },
     "execution_count": 19,
     "metadata": {},
     "output_type": "execute_result"
    }
   ],
   "source": [
    "df.isna().sum()"
   ]
  },
  {
   "cell_type": "markdown",
   "metadata": {
    "deletable": false,
    "editable": false,
    "id": "BWKRtBJ3_Zct",
    "tags": [
     "start_task"
    ]
   },
   "source": [
    "### Дубликаты\n",
    "\n",
    "**Задание 12**\n",
    "\n",
    "Посчитайте явные дубликаты в таблице одной командой:"
   ]
  },
  {
   "cell_type": "code",
   "execution_count": 20,
   "metadata": {
    "deletable": false,
    "id": "36eES_S0_Zct"
   },
   "outputs": [
    {
     "data": {
      "text/plain": [
       "3826"
      ]
     },
     "execution_count": 20,
     "metadata": {},
     "output_type": "execute_result"
    }
   ],
   "source": [
    "df.duplicated().sum()\n",
    "# подсчёт явных дубликатов"
   ]
  },
  {
   "cell_type": "markdown",
   "metadata": {
    "deletable": false,
    "editable": false,
    "id": "Ot25h6XR_Zct",
    "tags": [
     "start_task"
    ]
   },
   "source": [
    "**Задание 13**\n",
    "\n",
    "Вызовите специальный метод `pandas`, чтобы удалить явные дубликаты:"
   ]
  },
  {
   "cell_type": "code",
   "execution_count": 21,
   "metadata": {
    "deletable": false,
    "id": "exFHq6tt_Zct"
   },
   "outputs": [],
   "source": [
    "df= df.drop_duplicates()\n",
    "# удаление явных дубликатов"
   ]
  },
  {
   "cell_type": "markdown",
   "metadata": {
    "deletable": false,
    "editable": false,
    "id": "Im2YwBEG_Zct",
    "tags": [
     "start_task"
    ]
   },
   "source": [
    "**Задание 14**\n",
    "\n",
    "Ещё раз посчитайте явные дубликаты в таблице — убедитесь, что полностью от них избавились:"
   ]
  },
  {
   "cell_type": "code",
   "execution_count": 22,
   "metadata": {
    "deletable": false,
    "id": "-8PuNWQ0_Zct"
   },
   "outputs": [
    {
     "data": {
      "text/plain": [
       "0"
      ]
     },
     "execution_count": 22,
     "metadata": {},
     "output_type": "execute_result"
    }
   ],
   "source": [
    "# проверка на отсутствие дубликатов\n",
    "df.duplicated().sum()"
   ]
  },
  {
   "cell_type": "markdown",
   "metadata": {
    "deletable": false,
    "editable": false,
    "id": "QlFBsxAr_Zct"
   },
   "source": [
    "Теперь избавьтесь от неявных дубликатов в колонке `genre`. Например, название одного и того же жанра может быть записано немного по-разному. Такие ошибки тоже повлияют на результат исследования."
   ]
  },
  {
   "cell_type": "markdown",
   "metadata": {
    "deletable": false,
    "editable": false,
    "id": "eSjWwsOh_Zct",
    "tags": [
     "start_task"
    ]
   },
   "source": [
    "**Задание 15**\n",
    "\n",
    "Выведите на экран список уникальных названий жанров, отсортированный в алфавитном порядке. Для этого:\n",
    "1. извлеките нужный столбец датафрейма; \n",
    "2. примените к нему метод сортировки;\n",
    "3. для отсортированного столбца вызовите метод, который вернёт уникальные значения из столбца."
   ]
  },
  {
   "cell_type": "code",
   "execution_count": 23,
   "metadata": {
    "deletable": false,
    "id": "JIUcqzZN_Zct"
   },
   "outputs": [
    {
     "data": {
      "text/plain": [
       "array(['acid', 'acoustic', 'action', 'adult', 'africa', 'afrikaans',\n",
       "       'alternative', 'alternativepunk', 'ambient', 'americana',\n",
       "       'animated', 'anime', 'arabesk', 'arabic', 'arena',\n",
       "       'argentinetango', 'art', 'audiobook', 'author', 'avantgarde',\n",
       "       'axé', 'baile', 'balkan', 'beats', 'bigroom', 'black', 'bluegrass',\n",
       "       'blues', 'bollywood', 'bossa', 'brazilian', 'breakbeat', 'breaks',\n",
       "       'broadway', 'cantautori', 'cantopop', 'canzone', 'caribbean',\n",
       "       'caucasian', 'celtic', 'chamber', 'chanson', 'children', 'chill',\n",
       "       'chinese', 'choral', 'christian', 'christmas', 'classical',\n",
       "       'classicmetal', 'club', 'colombian', 'comedy', 'conjazz',\n",
       "       'contemporary', 'country', 'cuban', 'dance', 'dancehall',\n",
       "       'dancepop', 'dark', 'death', 'deep', 'deutschrock', 'deutschspr',\n",
       "       'dirty', 'disco', 'dnb', 'documentary', 'downbeat', 'downtempo',\n",
       "       'drum', 'dub', 'dubstep', 'eastern', 'easy', 'electronic',\n",
       "       'electropop', 'emo', 'entehno', 'epicmetal', 'estrada', 'ethnic',\n",
       "       'eurofolk', 'european', 'experimental', 'extrememetal', 'fado',\n",
       "       'fairytail', 'film', 'fitness', 'flamenco', 'folk', 'folklore',\n",
       "       'folkmetal', 'folkrock', 'folktronica', 'forró', 'frankreich',\n",
       "       'französisch', 'french', 'funk', 'future', 'gangsta', 'garage',\n",
       "       'german', 'ghazal', 'gitarre', 'glitch', 'gospel', 'gothic',\n",
       "       'grime', 'grunge', 'gypsy', 'handsup', \"hard'n'heavy\", 'hardcore',\n",
       "       'hardstyle', 'hardtechno', 'hip', 'hip-hop', 'hiphop',\n",
       "       'historisch', 'holiday', 'hop', 'horror', 'house', 'hymn', 'idm',\n",
       "       'independent', 'indian', 'indie', 'indipop', 'industrial',\n",
       "       'inspirational', 'instrumental', 'international', 'irish', 'jam',\n",
       "       'japanese', 'jazz', 'jewish', 'jpop', 'jungle', 'k-pop',\n",
       "       'karadeniz', 'karaoke', 'kayokyoku', 'korean', 'laiko', 'latin',\n",
       "       'latino', 'leftfield', 'local', 'lounge', 'loungeelectronic',\n",
       "       'lovers', 'malaysian', 'mandopop', 'marschmusik', 'meditative',\n",
       "       'mediterranean', 'melodic', 'metal', 'metalcore', 'mexican',\n",
       "       'middle', 'minimal', 'miscellaneous', 'modern', 'mood', 'mpb',\n",
       "       'muslim', 'native', 'neoklassik', 'neue', 'new', 'newage',\n",
       "       'newwave', 'nu', 'nujazz', 'numetal', 'oceania', 'old', 'opera',\n",
       "       'orchestral', 'other', 'piano', 'podcasts', 'pop', 'popdance',\n",
       "       'popelectronic', 'popeurodance', 'poprussian', 'post',\n",
       "       'posthardcore', 'postrock', 'power', 'progmetal', 'progressive',\n",
       "       'psychedelic', 'punjabi', 'punk', 'quebecois', 'ragga', 'ram',\n",
       "       'rancheras', 'rap', 'rave', 'reggae', 'reggaeton', 'regional',\n",
       "       'relax', 'religious', 'retro', 'rhythm', 'rnb', 'rnr', 'rock',\n",
       "       'rockabilly', 'rockalternative', 'rockindie', 'rockother',\n",
       "       'romance', 'roots', 'ruspop', 'rusrap', 'rusrock', 'russian',\n",
       "       'salsa', 'samba', 'scenic', 'schlager', 'self', 'sertanejo',\n",
       "       'shanson', 'shoegazing', 'showtunes', 'singer', 'ska', 'skarock',\n",
       "       'slow', 'smooth', 'soft', 'soul', 'soulful', 'sound', 'soundtrack',\n",
       "       'southern', 'specialty', 'speech', 'spiritual', 'sport',\n",
       "       'stonerrock', 'surf', 'swing', 'synthpop', 'synthrock',\n",
       "       'sängerportrait', 'tango', 'tanzorchester', 'taraftar', 'tatar',\n",
       "       'tech', 'techno', 'teen', 'thrash', 'top', 'traditional',\n",
       "       'tradjazz', 'trance', 'tribal', 'trip', 'triphop', 'tropical',\n",
       "       'türk', 'türkçe', 'ukrrock', 'unknown', 'urban', 'uzbek',\n",
       "       'variété', 'vi', 'videogame', 'vocal', 'western', 'world',\n",
       "       'worldbeat', 'ïîï', 'электроника'], dtype=object)"
      ]
     },
     "execution_count": 23,
     "metadata": {},
     "output_type": "execute_result"
    }
   ],
   "source": [
    "genres_sorted=df['genre'].sort_values()\n",
    "genres_sorted.unique()\n",
    "# Просмотр уникальных названий жанров"
   ]
  },
  {
   "cell_type": "markdown",
   "metadata": {
    "deletable": false,
    "editable": false,
    "id": "qej-Qmuo_Zct",
    "tags": [
     "start_task"
    ]
   },
   "source": [
    "**Задание 16**\n",
    "\n",
    "Просмотрите список и найдите неявные дубликаты названия `hiphop`. Это могут быть названия с ошибками или альтернативные названия того же жанра.\n",
    "\n",
    "Вы увидите следующие неявные дубликаты:\n",
    "* *hip*,\n",
    "* *hop*,\n",
    "* *hip-hop*.\n",
    "\n",
    "Чтобы очистить от них таблицу используйте метод `replace()` с двумя аргументами: списком строк-дубликатов (включащий *hip*, *hop* и *hip-hop*) и строкой с правильным значением. Вам нужно исправить колонку `genre` в таблице `df`: заменить каждое значение из списка дубликатов на верное. Вместо `hip`, `hop` и `hip-hop` в таблице должно быть значение `hiphop`:"
   ]
  },
  {
   "cell_type": "code",
   "execution_count": 24,
   "metadata": {
    "deletable": false,
    "id": "ErNDkmns_Zct"
   },
   "outputs": [],
   "source": [
    "duplicates = ['hip', 'hop', 'hip-hop'] \n",
    "name = 'hiphop'\n",
    "df['genre']=df['genre'].replace(duplicates,name)# Устранение неявных дубликатов"
   ]
  },
  {
   "cell_type": "markdown",
   "metadata": {
    "deletable": false,
    "editable": false,
    "id": "zQKF16_RG15m",
    "tags": [
     "start_task"
    ]
   },
   "source": [
    "**Задание 17**\n",
    "\n",
    "Проверьте, что заменили неправильные названия:\n",
    "\n",
    "*   hip,\n",
    "*   hop,\n",
    "*   hip-hop.\n",
    "\n",
    "Выведите отсортированный список уникальных значений столбца `genre`:"
   ]
  },
  {
   "cell_type": "code",
   "execution_count": 25,
   "metadata": {
    "deletable": false,
    "id": "wvixALnFG15m"
   },
   "outputs": [
    {
     "data": {
      "text/plain": [
       "array(['acid', 'acoustic', 'action', 'adult', 'africa', 'afrikaans',\n",
       "       'alternative', 'alternativepunk', 'ambient', 'americana',\n",
       "       'animated', 'anime', 'arabesk', 'arabic', 'arena',\n",
       "       'argentinetango', 'art', 'audiobook', 'author', 'avantgarde',\n",
       "       'axé', 'baile', 'balkan', 'beats', 'bigroom', 'black', 'bluegrass',\n",
       "       'blues', 'bollywood', 'bossa', 'brazilian', 'breakbeat', 'breaks',\n",
       "       'broadway', 'cantautori', 'cantopop', 'canzone', 'caribbean',\n",
       "       'caucasian', 'celtic', 'chamber', 'chanson', 'children', 'chill',\n",
       "       'chinese', 'choral', 'christian', 'christmas', 'classical',\n",
       "       'classicmetal', 'club', 'colombian', 'comedy', 'conjazz',\n",
       "       'contemporary', 'country', 'cuban', 'dance', 'dancehall',\n",
       "       'dancepop', 'dark', 'death', 'deep', 'deutschrock', 'deutschspr',\n",
       "       'dirty', 'disco', 'dnb', 'documentary', 'downbeat', 'downtempo',\n",
       "       'drum', 'dub', 'dubstep', 'eastern', 'easy', 'electronic',\n",
       "       'electropop', 'emo', 'entehno', 'epicmetal', 'estrada', 'ethnic',\n",
       "       'eurofolk', 'european', 'experimental', 'extrememetal', 'fado',\n",
       "       'fairytail', 'film', 'fitness', 'flamenco', 'folk', 'folklore',\n",
       "       'folkmetal', 'folkrock', 'folktronica', 'forró', 'frankreich',\n",
       "       'französisch', 'french', 'funk', 'future', 'gangsta', 'garage',\n",
       "       'german', 'ghazal', 'gitarre', 'glitch', 'gospel', 'gothic',\n",
       "       'grime', 'grunge', 'gypsy', 'handsup', \"hard'n'heavy\", 'hardcore',\n",
       "       'hardstyle', 'hardtechno', 'hiphop', 'historisch', 'holiday',\n",
       "       'horror', 'house', 'hymn', 'idm', 'independent', 'indian', 'indie',\n",
       "       'indipop', 'industrial', 'inspirational', 'instrumental',\n",
       "       'international', 'irish', 'jam', 'japanese', 'jazz', 'jewish',\n",
       "       'jpop', 'jungle', 'k-pop', 'karadeniz', 'karaoke', 'kayokyoku',\n",
       "       'korean', 'laiko', 'latin', 'latino', 'leftfield', 'local',\n",
       "       'lounge', 'loungeelectronic', 'lovers', 'malaysian', 'mandopop',\n",
       "       'marschmusik', 'meditative', 'mediterranean', 'melodic', 'metal',\n",
       "       'metalcore', 'mexican', 'middle', 'minimal', 'miscellaneous',\n",
       "       'modern', 'mood', 'mpb', 'muslim', 'native', 'neoklassik', 'neue',\n",
       "       'new', 'newage', 'newwave', 'nu', 'nujazz', 'numetal', 'oceania',\n",
       "       'old', 'opera', 'orchestral', 'other', 'piano', 'podcasts', 'pop',\n",
       "       'popdance', 'popelectronic', 'popeurodance', 'poprussian', 'post',\n",
       "       'posthardcore', 'postrock', 'power', 'progmetal', 'progressive',\n",
       "       'psychedelic', 'punjabi', 'punk', 'quebecois', 'ragga', 'ram',\n",
       "       'rancheras', 'rap', 'rave', 'reggae', 'reggaeton', 'regional',\n",
       "       'relax', 'religious', 'retro', 'rhythm', 'rnb', 'rnr', 'rock',\n",
       "       'rockabilly', 'rockalternative', 'rockindie', 'rockother',\n",
       "       'romance', 'roots', 'ruspop', 'rusrap', 'rusrock', 'russian',\n",
       "       'salsa', 'samba', 'scenic', 'schlager', 'self', 'sertanejo',\n",
       "       'shanson', 'shoegazing', 'showtunes', 'singer', 'ska', 'skarock',\n",
       "       'slow', 'smooth', 'soft', 'soul', 'soulful', 'sound', 'soundtrack',\n",
       "       'southern', 'specialty', 'speech', 'spiritual', 'sport',\n",
       "       'stonerrock', 'surf', 'swing', 'synthpop', 'synthrock',\n",
       "       'sängerportrait', 'tango', 'tanzorchester', 'taraftar', 'tatar',\n",
       "       'tech', 'techno', 'teen', 'thrash', 'top', 'traditional',\n",
       "       'tradjazz', 'trance', 'tribal', 'trip', 'triphop', 'tropical',\n",
       "       'türk', 'türkçe', 'ukrrock', 'unknown', 'urban', 'uzbek',\n",
       "       'variété', 'vi', 'videogame', 'vocal', 'western', 'world',\n",
       "       'worldbeat', 'ïîï', 'электроника'], dtype=object)"
      ]
     },
     "execution_count": 25,
     "metadata": {},
     "output_type": "execute_result"
    }
   ],
   "source": [
    "# Проверка на неявные дубликаты\n",
    "df['genre'].sort_values().unique()"
   ]
  },
  {
   "cell_type": "markdown",
   "metadata": {
    "deletable": false,
    "editable": false,
    "id": "jz6a9-7HQUDd"
   },
   "source": [
    "**Выводы**\n",
    "\n",
    "Предобработка обнаружила три проблемы в данных:\n",
    "\n",
    "- нарушения в стиле заголовков,\n",
    "- пропущенные значения,\n",
    "- дубликаты — явные и неявные.\n",
    "\n",
    "Вы исправили заголовки, чтобы упростить работу с таблицей. Без дубликатов исследование станет более точным.\n",
    "\n",
    "Пропущенные значения вы заменили на `'unknown'`. Ещё предстоит увидеть, не повредят ли исследованию пропуски в колонке `genre`.\n",
    "\n",
    "Теперь можно перейти к проверке гипотез. "
   ]
  },
  {
   "cell_type": "markdown",
   "metadata": {
    "deletable": false,
    "editable": false,
    "id": "WttZHXH0SqKk"
   },
   "source": [
    "## Проверка гипотез"
   ]
  },
  {
   "cell_type": "markdown",
   "metadata": {
    "deletable": false,
    "editable": false,
    "id": "Im936VVi_Zcu"
   },
   "source": [
    "### Сравнение поведения пользователей двух столиц"
   ]
  },
  {
   "cell_type": "markdown",
   "metadata": {
    "deletable": false,
    "editable": false,
    "id": "nwt_MuaL_Zcu"
   },
   "source": [
    "Первая гипотеза утверждает, что пользователи по-разному слушают музыку в Москве и Санкт-Петербурге. Проверьте это предположение по данным о трёх днях недели — понедельнике, среде и пятнице. Для этого:\n",
    "\n",
    "* Разделите пользователей Москвы и Санкт-Петербурга.\n",
    "* Сравните, сколько треков послушала каждая группа пользователей в понедельник, среду и пятницу.\n"
   ]
  },
  {
   "cell_type": "markdown",
   "metadata": {
    "deletable": false,
    "editable": false,
    "id": "8Dw_YMmT_Zcu",
    "tags": [
     "start_task"
    ]
   },
   "source": [
    "**Задание 18**\n",
    "\n",
    "Для тренировки сначала выполните каждый из расчётов по отдельности. \n",
    "\n",
    "Оцените активность пользователей в каждом городе. Сгруппируйте данные по городу и посчитайте прослушивания в каждой группе.\n",
    "\n"
   ]
  },
  {
   "cell_type": "code",
   "execution_count": 26,
   "metadata": {
    "deletable": false,
    "id": "0_Qs96oh_Zcu"
   },
   "outputs": [
    {
     "data": {
      "text/plain": [
       "city\n",
       "Moscow              42741\n",
       "Saint-Petersburg    18512\n",
       "Name: user_id, dtype: int64"
      ]
     },
     "execution_count": 26,
     "metadata": {},
     "output_type": "execute_result"
    }
   ],
   "source": [
    "df.groupby('city')['user_id'].count()\n",
    "# Подсчёт прослушиваний в каждом городе\n"
   ]
  },
  {
   "cell_type": "markdown",
   "metadata": {
    "deletable": false,
    "editable": false,
    "id": "dzli3w8o_Zcu",
    "tags": [
     "start_task"
    ]
   },
   "source": [
    "В Москве прослушиваний больше, чем в Петербурге. Из этого не следует, что московские пользователи чаще слушают музыку. Просто самих пользователей в Москве больше.\n",
    "\n",
    "**Задание 19**\n",
    "\n",
    "Теперь сгруппируйте данные по дню недели и посчитайте прослушивания в понедельник, среду и пятницу. Учтите, что в данных есть информация о прослушиваниях только за эти дни.\n"
   ]
  },
  {
   "cell_type": "code",
   "execution_count": 27,
   "metadata": {
    "deletable": false,
    "id": "uZMKjiJz_Zcu"
   },
   "outputs": [
    {
     "data": {
      "text/plain": [
       "day\n",
       "Friday       21840\n",
       "Monday       21354\n",
       "Wednesday    18059\n",
       "Name: user_id, dtype: int64"
      ]
     },
     "execution_count": 27,
     "metadata": {},
     "output_type": "execute_result"
    }
   ],
   "source": [
    "df.groupby('day')['user_id'].count()\n",
    "# Подсчёт прослушиваний в каждый из трёх дней"
   ]
  },
  {
   "cell_type": "markdown",
   "metadata": {
    "deletable": false,
    "editable": false,
    "id": "cC2tNrlL_Zcu"
   },
   "source": [
    "В среднем пользователи из двух городов менее активны по средам. Но картина может измениться, если рассмотреть каждый город в отдельности."
   ]
  },
  {
   "cell_type": "markdown",
   "metadata": {
    "deletable": false,
    "editable": false,
    "id": "POzs8bGa_Zcu",
    "tags": [
     "start_task"
    ]
   },
   "source": [
    "**Задание 20**\n",
    "\n",
    "\n",
    "Вы видели, как работает группировка по городу и по дням недели. Теперь напишите функцию, которая объединит два эти расчёта.\n",
    "\n",
    "Создайте функцию `number_tracks()`, которая посчитает прослушивания для заданного дня и города. Ей понадобятся два параметра:\n",
    "* день недели,\n",
    "* название города.\n",
    "\n",
    "В функции сохраните в переменную строки исходной таблицы, у которых значение:\n",
    "  * в колонке `day` равно параметру `day`,\n",
    "  * в колонке `city` равно параметру `city`.\n",
    "\n",
    "Для этого примените последовательную фильтрацию с логической индексацией (или сложные логические выражения в одну строку, если вы уже знакомы с ними).\n",
    "\n",
    "Затем посчитайте значения в столбце `user_id` получившейся таблицы. Результат сохраните в новую переменную. Верните эту переменную из функции."
   ]
  },
  {
   "cell_type": "code",
   "execution_count": 76,
   "metadata": {
    "deletable": false,
    "id": "Nz3GdQB1_Zcu"
   },
   "outputs": [],
   "source": [
    "#<создание функции number_tracks()>\n",
    "# Объявляется функция с двумя параметрами: day, city.\n",
    "# В переменной track_list сохраняются те строки таблицы df, для которых \n",
    "# значение в столбце 'day' равно параметру day и одновременно значение\n",
    "# в столбце 'city' равно параметру city (используйте последовательную фильтрацию\n",
    "# с помощью логической индексации или сложные логические выражения в одну строку, если вы уже знакомы с ними).\n",
    "# В переменной track_list_count сохраняется число значений столбца 'user_id',\n",
    "# рассчитанное методом count() для таблицы track_list.\n",
    "# Функция возвращает число - значение track_list_count.\n",
    "\n",
    "def number_tracks(day,city):\n",
    "    track_list = df[df['day']==day]\n",
    "    track_list = track_list[track_list['city']==city]\n",
    "    track_list_count=track_list['user_id'].count()\n",
    "    return track_list_count\n",
    "\n",
    "# Функция для подсчёта прослушиваний для конкретного города и дня.\n",
    "# С помощью последовательной фильтрации с логической индексацией она \n",
    "# сначала получит из исходной таблицы строки с нужным днём,\n",
    "# затем из результата отфильтрует строки с нужным городом,\n",
    "# методом count() посчитает количество значений в колонке user_id. \n",
    "# Это количество функция вернёт в качестве результата"
   ]
  },
  {
   "cell_type": "markdown",
   "metadata": {
    "deletable": false,
    "editable": false,
    "id": "ytf7xFrFJQ2r",
    "tags": [
     "start_task"
    ]
   },
   "source": [
    "**Задание 21**\n",
    "\n",
    "Вызовите `number_tracks()` шесть раз, меняя значение параметров — так, чтобы получить данные для каждого города в каждый из трёх дней."
   ]
  },
  {
   "cell_type": "code",
   "execution_count": 69,
   "metadata": {
    "deletable": false,
    "id": "rJcRATNQ_Zcu"
   },
   "outputs": [
    {
     "data": {
      "text/plain": [
       "15740"
      ]
     },
     "execution_count": 69,
     "metadata": {},
     "output_type": "execute_result"
    }
   ],
   "source": [
    "number_tracks('Monday','Moscow')\n",
    "# количество прослушиваний в Москве по понедельникам"
   ]
  },
  {
   "cell_type": "code",
   "execution_count": 70,
   "metadata": {
    "deletable": false,
    "id": "hq_ncZ5T_Zcu"
   },
   "outputs": [
    {
     "data": {
      "text/plain": [
       "5614"
      ]
     },
     "execution_count": 70,
     "metadata": {},
     "output_type": "execute_result"
    }
   ],
   "source": [
    "number_tracks('Monday','Saint-Petersburg')\n",
    "# количество прослушиваний в Санкт-Петербурге по понедельникам"
   ]
  },
  {
   "cell_type": "code",
   "execution_count": 72,
   "metadata": {
    "deletable": false,
    "id": "_NTy2VPU_Zcu"
   },
   "outputs": [
    {
     "data": {
      "text/plain": [
       "11056"
      ]
     },
     "execution_count": 72,
     "metadata": {},
     "output_type": "execute_result"
    }
   ],
   "source": [
    "number_tracks('Wednesday','Moscow')\n",
    "# количество прослушиваний в Москве по средам"
   ]
  },
  {
   "cell_type": "code",
   "execution_count": 73,
   "metadata": {
    "deletable": false,
    "id": "j2y3TAwo_Zcu"
   },
   "outputs": [
    {
     "data": {
      "text/plain": [
       "7003"
      ]
     },
     "execution_count": 73,
     "metadata": {},
     "output_type": "execute_result"
    }
   ],
   "source": [
    "number_tracks('Wednesday','Saint-Petersburg')\n",
    "# количество прослушиваний в Санкт-Петербурге по средам"
   ]
  },
  {
   "cell_type": "code",
   "execution_count": 74,
   "metadata": {
    "deletable": false,
    "id": "vYDw5u_K_Zcu"
   },
   "outputs": [
    {
     "data": {
      "text/plain": [
       "15945"
      ]
     },
     "execution_count": 74,
     "metadata": {},
     "output_type": "execute_result"
    }
   ],
   "source": [
    "number_tracks('Friday','Moscow')\n",
    "# количество прослушиваний в Москве по пятницам"
   ]
  },
  {
   "cell_type": "code",
   "execution_count": 75,
   "metadata": {
    "deletable": false,
    "id": "8_yzFtW3_Zcu"
   },
   "outputs": [
    {
     "data": {
      "text/plain": [
       "5895"
      ]
     },
     "execution_count": 75,
     "metadata": {},
     "output_type": "execute_result"
    }
   ],
   "source": [
    "number_tracks('Friday','Saint-Petersburg')\n",
    "# количество прослушиваний в Санкт-Петербурге по пятницам"
   ]
  },
  {
   "cell_type": "markdown",
   "metadata": {
    "deletable": false,
    "editable": false,
    "id": "7QXffbO-_Zcu",
    "tags": [
     "start_task"
    ]
   },
   "source": [
    "**Задание 22**\n",
    "\n",
    "Создайте c помощью конструктора `pd.DataFrame` таблицу, где\n",
    "* названия колонок — `['city', 'monday', 'wednesday', 'friday']`;\n",
    "* данные — результаты, которые вы получили с помощью `number_tracks`."
   ]
  },
  {
   "cell_type": "code",
   "execution_count": 82,
   "metadata": {
    "deletable": false,
    "id": "APAcLpOr_Zcu"
   },
   "outputs": [
    {
     "data": {
      "text/html": [
       "<div>\n",
       "<style scoped>\n",
       "    .dataframe tbody tr th:only-of-type {\n",
       "        vertical-align: middle;\n",
       "    }\n",
       "\n",
       "    .dataframe tbody tr th {\n",
       "        vertical-align: top;\n",
       "    }\n",
       "\n",
       "    .dataframe thead th {\n",
       "        text-align: right;\n",
       "    }\n",
       "</style>\n",
       "<table border=\"1\" class=\"dataframe\">\n",
       "  <thead>\n",
       "    <tr style=\"text-align: right;\">\n",
       "      <th></th>\n",
       "      <th>city</th>\n",
       "      <th>monday</th>\n",
       "      <th>wednesday</th>\n",
       "      <th>friday</th>\n",
       "    </tr>\n",
       "  </thead>\n",
       "  <tbody>\n",
       "    <tr>\n",
       "      <th>0</th>\n",
       "      <td>Saint-Petersburg</td>\n",
       "      <td>5614</td>\n",
       "      <td>7003</td>\n",
       "      <td>5895</td>\n",
       "    </tr>\n",
       "    <tr>\n",
       "      <th>1</th>\n",
       "      <td>Moscow</td>\n",
       "      <td>15740</td>\n",
       "      <td>11056</td>\n",
       "      <td>15945</td>\n",
       "    </tr>\n",
       "  </tbody>\n",
       "</table>\n",
       "</div>"
      ],
      "text/plain": [
       "               city  monday  wednesday  friday\n",
       "0  Saint-Petersburg    5614       7003    5895\n",
       "1            Moscow   15740      11056   15945"
      ]
     },
     "execution_count": 82,
     "metadata": {},
     "output_type": "execute_result"
    }
   ],
   "source": [
    "columns= ['city', 'monday', 'wednesday', 'friday']\n",
    "data=[['Saint-Petersburg',5614,7003,5895],['Moscow',15740,11056,15945]]\n",
    "\n",
    "table=pd.DataFrame(data=data,columns=columns)\n",
    "table\n",
    "# Таблица с результатами"
   ]
  },
  {
   "cell_type": "markdown",
   "metadata": {
    "deletable": false,
    "editable": false,
    "id": "-EgPIHYu_Zcu"
   },
   "source": [
    "**Выводы**\n",
    "\n",
    "Данные показывают разницу поведения пользователей:\n",
    "\n",
    "- В Москве пик прослушиваний приходится на понедельник и пятницу, а в среду заметен спад.\n",
    "- В Петербурге, наоборот, больше слушают музыку по средам. Активность в понедельник и пятницу здесь почти в равной мере уступает среде.\n",
    "\n",
    "Значит, данные говорят в пользу первой гипотезы."
   ]
  },
  {
   "cell_type": "markdown",
   "metadata": {
    "deletable": false,
    "editable": false,
    "id": "atZAxtq4_Zcu"
   },
   "source": [
    "### Музыка в начале и в конце недели"
   ]
  },
  {
   "cell_type": "markdown",
   "metadata": {
    "deletable": false,
    "editable": false,
    "id": "eXrQqXFH_Zcu"
   },
   "source": [
    "Согласно второй гипотезе, утром в понедельник в Москве преобладают одни жанры, а в Петербурге — другие. Так же и вечером пятницы преобладают разные жанры — в зависимости от города."
   ]
  },
  {
   "cell_type": "markdown",
   "metadata": {
    "deletable": false,
    "editable": false,
    "id": "S8UcW6Hw_Zcu",
    "tags": [
     "start_task"
    ]
   },
   "source": [
    "**Задание 23**\n",
    "\n",
    "Сохраните таблицы с данными в две переменные:\n",
    "* по Москве — в `moscow_general`;\n",
    "* по Санкт-Петербургу — в `spb_general`."
   ]
  },
  {
   "cell_type": "code",
   "execution_count": 89,
   "metadata": {
    "deletable": false,
    "id": "qeaFfM_P_Zcu"
   },
   "outputs": [],
   "source": [
    "# получение таблицы moscow_general из тех строк таблицы df, \n",
    "# для которых значение в столбце 'city' равно 'Moscow'\n",
    "moscow_general= df[df['city']=='Moscow']\n"
   ]
  },
  {
   "cell_type": "code",
   "execution_count": 90,
   "metadata": {
    "deletable": false,
    "id": "ORaVRKto_Zcu"
   },
   "outputs": [],
   "source": [
    "# получение таблицы spb_general из тех строк таблицы df,\n",
    "# для которых значение в столбце 'city' равно 'Saint-Petersburg'\n",
    "spb_general=df[df['city']=='Saint-Petersburg']\n"
   ]
  },
  {
   "cell_type": "markdown",
   "metadata": {
    "deletable": false,
    "editable": false,
    "id": "MEJV-CX2_Zcu",
    "tags": [
     "start_task"
    ]
   },
   "source": [
    "**Задание 24**\n",
    "\n",
    "Создайте функцию `genre_weekday()` с четырьмя параметрами:\n",
    "* таблица (датафрейм) с данными,\n",
    "* день недели,\n",
    "* начальная временная метка в формате 'hh:mm', \n",
    "* последняя временная метка в формате 'hh:mm'.\n",
    "\n",
    "Функция должна вернуть информацию о топ-10 жанров тех треков, которые прослушивали в указанный день, в промежутке между двумя отметками времени."
   ]
  },
  {
   "cell_type": "code",
   "execution_count": 117,
   "metadata": {
    "deletable": false,
    "id": "laJT9BYl_Zcu"
   },
   "outputs": [],
   "source": [
    "# Объявление функции genre_weekday() с параметрами table, day, time1, time2,\n",
    "# которая возвращает информацию о самых популярных жанрах в указанный день в\n",
    "# заданное время:\n",
    "# 1) в переменную genre_df сохраняются те строки переданного датафрейма table, для\n",
    "#    которых одновременно:\n",
    "#    - значение в столбце day равно значению аргумента day\n",
    "#    - значение в столбце time больше значения аргумента time1\n",
    "#    - значение в столбце time меньше значения аргумента time2\n",
    "#    Используйте последовательную фильтрацию с помощью логической индексации.\n",
    "# 2) сгруппировать датафрейм genre_df по столбцу genre, взять один из его\n",
    "#    столбцов и посчитать методом count() количество записей для каждого из\n",
    "#    присутствующих жанров, получившийся Series записать в переменную\n",
    "#    genre_df_count\n",
    "# 3) отсортировать genre_df_count по убыванию встречаемости и сохранить\n",
    "#    в переменную genre_df_sorted\n",
    "# 4) вернуть Series из 10 первых значений genre_df_sorted, это будут топ-10\n",
    "#    популярных жанров (в указанный день, в заданное время)\n",
    "\n",
    "def genre_weekday(df, day, time1, time2):\n",
    "    # последовательная фильтрация\n",
    "    # оставляем в genre_df только те строки df, у которых день равен day\n",
    "    genre_df = df[df['day']==day]\n",
    "    # оставляем в genre_df только те строки genre_df, у которых время меньше time2\n",
    "    genre_df = genre_df[genre_df['time']<time2]\n",
    "    # оставляем в genre_df только те строки genre_df, у которых время больше time1\n",
    "    genre_df = genre_df[genre_df['time']>time1]\n",
    "    # сгруппируем отфильтрованный датафрейм по столбцу с названиями жанров, возьмём столбец genre и посчитаем кол-во строк для каждого жанра методом count()\n",
    "    genre_df_grouped = genre_df.groupby('genre')['genre'].count()\n",
    "    # отсортируем результат по убыванию (чтобы в начале Series оказались самые популярные жанры)\n",
    "    genre_df_sorted = genre_df_grouped.sort_values(ascending=False)\n",
    "    # вернём Series с 10 самыми популярными жанрами в указанный отрезок времени заданного дня\n",
    "    return genre_df_sorted[:10]"
   ]
  },
  {
   "cell_type": "markdown",
   "metadata": {
    "deletable": false,
    "editable": false,
    "id": "la2s2_PF_Zcu",
    "tags": [
     "start_task"
    ]
   },
   "source": [
    "**Задание 25**\n",
    "\n",
    "\n",
    "Cравните результаты функции `genre_weekday()` для Москвы и Санкт-Петербурга в понедельник утром (с 7:00 до 11:00) и в пятницу вечером (с 17:00 до 23:00):"
   ]
  },
  {
   "cell_type": "code",
   "execution_count": 118,
   "metadata": {
    "deletable": false,
    "id": "yz7itPUQ_Zcu"
   },
   "outputs": [
    {
     "data": {
      "text/plain": [
       "genre\n",
       "pop            781\n",
       "dance          549\n",
       "electronic     480\n",
       "rock           474\n",
       "hiphop         286\n",
       "ruspop         186\n",
       "world          181\n",
       "rusrap         175\n",
       "alternative    164\n",
       "unknown        161\n",
       "Name: genre, dtype: int64"
      ]
     },
     "execution_count": 118,
     "metadata": {},
     "output_type": "execute_result"
    }
   ],
   "source": [
    "genre_weekday(moscow_general, 'Monday', '07:00', '11:00')\n",
    "# вызов функции для утра понедельника в Москве (вместо df — таблица moscow_general)\n",
    "# объекты, хранящие время, являются строками и сравниваются как строки\n",
    "# пример вызова: genre_weekday(moscow_general, 'Monday', '07:00', '11:00')"
   ]
  },
  {
   "cell_type": "code",
   "execution_count": 119,
   "metadata": {
    "deletable": false,
    "id": "kwUcHPdy_Zcu"
   },
   "outputs": [
    {
     "data": {
      "text/plain": [
       "genre\n",
       "pop            218\n",
       "dance          182\n",
       "rock           162\n",
       "electronic     147\n",
       "hiphop          80\n",
       "ruspop          64\n",
       "alternative     58\n",
       "rusrap          55\n",
       "jazz            44\n",
       "classical       40\n",
       "Name: genre, dtype: int64"
      ]
     },
     "execution_count": 119,
     "metadata": {},
     "output_type": "execute_result"
    }
   ],
   "source": [
    "# вызов функции для утра понедельника в Петербурге (вместо df — таблица spb_general)\n",
    "genre_weekday(spb_general, 'Monday', '07:00', '11:00')"
   ]
  },
  {
   "cell_type": "code",
   "execution_count": 120,
   "metadata": {
    "deletable": false,
    "id": "EzXVRE1o_Zcu"
   },
   "outputs": [
    {
     "data": {
      "text/plain": [
       "genre\n",
       "pop            713\n",
       "rock           517\n",
       "dance          495\n",
       "electronic     482\n",
       "hiphop         273\n",
       "world          208\n",
       "ruspop         170\n",
       "alternative    163\n",
       "classical      163\n",
       "rusrap         142\n",
       "Name: genre, dtype: int64"
      ]
     },
     "execution_count": 120,
     "metadata": {},
     "output_type": "execute_result"
    }
   ],
   "source": [
    "genre_weekday(moscow_general,'Friday', '17:00', '23:00')\n",
    "# вызов функции для вечера пятницы в Москве"
   ]
  },
  {
   "cell_type": "code",
   "execution_count": 121,
   "metadata": {
    "deletable": false,
    "id": "JZaEKu5v_Zcu"
   },
   "outputs": [
    {
     "data": {
      "text/plain": [
       "genre\n",
       "pop            256\n",
       "electronic     216\n",
       "rock           216\n",
       "dance          210\n",
       "hiphop          97\n",
       "alternative     63\n",
       "jazz            61\n",
       "classical       60\n",
       "rusrap          59\n",
       "world           54\n",
       "Name: genre, dtype: int64"
      ]
     },
     "execution_count": 121,
     "metadata": {},
     "output_type": "execute_result"
    }
   ],
   "source": [
    "genre_weekday(spb_general, 'Friday', '17:00', '23:00')\n",
    "# вызов функции для вечера пятницы в Петербурге"
   ]
  },
  {
   "cell_type": "markdown",
   "metadata": {
    "deletable": false,
    "editable": false,
    "id": "wrCe4MNX_Zcu"
   },
   "source": [
    "**Выводы**\n",
    "\n",
    "Если сравнить топ-10 жанров в понедельник утром, можно сделать такие выводы:\n",
    "\n",
    "1. В Москве и Петербурге слушают похожую музыку. Единственное отличие — в московский рейтинг вошёл жанр “world”, а в петербургский — джаз и классика.\n",
    "\n",
    "2. В Москве пропущенных значений оказалось так много, что значение `'unknown'` заняло десятое место среди самых популярных жанров. Значит, пропущенные значения занимают существенную долю в данных и угрожают достоверности исследования.\n",
    "\n",
    "Вечер пятницы не меняет эту картину. Некоторые жанры поднимаются немного выше, другие спускаются, но в целом топ-10 остаётся тем же самым.\n",
    "\n",
    "Таким образом, вторая гипотеза подтвердилась лишь частично:\n",
    "* Пользователи слушают похожую музыку в начале недели и в конце.\n",
    "* Разница между Москвой и Петербургом не слишком выражена. В Москве чаще слушают русскую популярную музыку, в Петербурге — джаз.\n",
    "\n",
    "Однако пропуски в данных ставят под сомнение этот результат. В Москве их так много, что рейтинг топ-10 мог бы выглядеть иначе, если бы не утерянные  данные о жанрах."
   ]
  },
  {
   "cell_type": "markdown",
   "metadata": {
    "deletable": false,
    "editable": false,
    "id": "JolODAqr_Zcu"
   },
   "source": [
    "### Жанровые предпочтения в Москве и Петербурге\n",
    "\n",
    "Гипотеза: Петербург — столица рэпа, музыку этого жанра там слушают чаще, чем в Москве.  А Москва — город контрастов, в котором, тем не менее, преобладает поп-музыка."
   ]
  },
  {
   "cell_type": "markdown",
   "metadata": {
    "deletable": false,
    "editable": false,
    "id": "DlegSvaT_Zcu",
    "tags": [
     "start_task"
    ]
   },
   "source": [
    "**Задание 26**\n",
    "\n",
    "Сгруппируйте таблицу `moscow_general` по жанру и посчитайте прослушивания треков каждого жанра методом `count()`. Затем отсортируйте результат в порядке убывания и сохраните его в таблице `moscow_genres`."
   ]
  },
  {
   "cell_type": "code",
   "execution_count": 122,
   "metadata": {
    "deletable": false,
    "id": "r19lIPke_Zcu"
   },
   "outputs": [
    {
     "data": {
      "text/plain": [
       "genre\n",
       "pop            5892\n",
       "dance          4435\n",
       "rock           3965\n",
       "electronic     3786\n",
       "hiphop         2096\n",
       "               ... \n",
       "neoklassik        1\n",
       "mood              1\n",
       "metalcore         1\n",
       "marschmusik       1\n",
       "ïîï               1\n",
       "Name: genre, Length: 267, dtype: int64"
      ]
     },
     "execution_count": 122,
     "metadata": {},
     "output_type": "execute_result"
    }
   ],
   "source": [
    "# одной строкой: группировка таблицы moscow_general по столбцу 'genre', \n",
    "moscow_genres = moscow_general.groupby('genre')['genre'].count().sort_values(ascending=False)\n",
    "\n",
    "# подсчёт числа значений 'genre' в этой группировке методом count(), \n",
    "# сортировка получившегося Series в порядке убывания и сохранение в moscow_genres"
   ]
  },
  {
   "cell_type": "markdown",
   "metadata": {
    "deletable": false,
    "editable": false,
    "id": "6kMuomxTiIr8",
    "tags": [
     "start_task"
    ]
   },
   "source": [
    "**Задание 27**\n",
    "\n",
    "Выведите на экран первые десять строк `moscow_genres`:"
   ]
  },
  {
   "cell_type": "code",
   "execution_count": 123,
   "metadata": {
    "deletable": false,
    "id": "WhCSooF8_Zcv"
   },
   "outputs": [
    {
     "data": {
      "text/plain": [
       "genre\n",
       "pop            5892\n",
       "dance          4435\n",
       "rock           3965\n",
       "electronic     3786\n",
       "hiphop         2096\n",
       "classical      1616\n",
       "world          1432\n",
       "alternative    1379\n",
       "ruspop         1372\n",
       "rusrap         1161\n",
       "Name: genre, dtype: int64"
      ]
     },
     "execution_count": 123,
     "metadata": {},
     "output_type": "execute_result"
    }
   ],
   "source": [
    "moscow_genres[:10]\n",
    "# просмотр первых 10 строк moscow_genres"
   ]
  },
  {
   "cell_type": "markdown",
   "metadata": {
    "deletable": false,
    "editable": false,
    "id": "cnPG2vnN_Zcv",
    "tags": [
     "start_task"
    ]
   },
   "source": [
    "**Задание 28**\n",
    "\n",
    "\n",
    "Теперь повторите то же и для Петербурга.\n",
    "\n",
    "Сгруппируйте таблицу `spb_general` по жанру. Посчитайте прослушивания треков каждого жанра. Результат отсортируйте в порядке убывания и сохраните в таблице `spb_genres`:\n"
   ]
  },
  {
   "cell_type": "code",
   "execution_count": 125,
   "metadata": {
    "deletable": false,
    "id": "gluLIpE7_Zcv"
   },
   "outputs": [],
   "source": [
    "spb_genres = spb_general.groupby('genre')['genre'].count().sort_values(ascending=False)\n",
    "# одной строкой: группировка таблицы spb_general по столбцу 'genre', \n",
    "# подсчёт числа значений 'genre' в этой группировке методом count(), \n",
    "# сортировка получившегося Series в порядке убывания и сохранение в spb_genres"
   ]
  },
  {
   "cell_type": "markdown",
   "metadata": {
    "deletable": false,
    "editable": false,
    "id": "5Doha_ODgyQ8",
    "tags": [
     "start_task"
    ]
   },
   "source": [
    "**Задание 29**\n",
    "\n",
    "Выведите на экран первые десять строк `spb_genres`:"
   ]
  },
  {
   "cell_type": "code",
   "execution_count": 126,
   "metadata": {
    "deletable": false,
    "id": "uaGJHjVU_Zcv"
   },
   "outputs": [
    {
     "data": {
      "text/plain": [
       "genre\n",
       "pop            2431\n",
       "dance          1932\n",
       "rock           1879\n",
       "electronic     1736\n",
       "hiphop          960\n",
       "alternative     649\n",
       "classical       646\n",
       "rusrap          564\n",
       "ruspop          538\n",
       "world           515\n",
       "Name: genre, dtype: int64"
      ]
     },
     "execution_count": 126,
     "metadata": {},
     "output_type": "execute_result"
    }
   ],
   "source": [
    "# просмотр первых 10 строк spb_genres\n",
    "spb_genres[:10]"
   ]
  },
  {
   "cell_type": "markdown",
   "metadata": {
    "deletable": false,
    "editable": false,
    "id": "RY51YJYu_Zcv"
   },
   "source": [
    "**Выводы**"
   ]
  },
  {
   "cell_type": "markdown",
   "metadata": {
    "deletable": false,
    "editable": false,
    "id": "nVhnJEm__Zcv"
   },
   "source": [
    "Гипотеза частично подтвердилась:\n",
    "* Поп-музыка — самый популярный жанр в Москве, как и предполагала гипотеза. Более того, в топ-10 жанров встречается близкий жанр — русская популярная музыка.\n",
    "* Вопреки ожиданиям, рэп одинаково популярен в Москве и Петербурге. \n"
   ]
  },
  {
   "cell_type": "markdown",
   "metadata": {
    "deletable": false,
    "editable": false,
    "id": "ykKQ0N65_Zcv"
   },
   "source": [
    "## Итоги исследования"
   ]
  },
  {
   "cell_type": "markdown",
   "metadata": {
    "deletable": false,
    "editable": false,
    "id": "tjUwbHb3_Zcv"
   },
   "source": [
    "Вы проверили три гипотезы и установили:\n",
    "\n",
    "1. День недели по-разному влияет на активность пользователей в Москве и Петербурге. \n",
    "\n",
    "Первая гипотеза полностью подтвердилась.\n",
    "\n",
    "2. Музыкальные предпочтения не сильно меняются в течение недели — будь то Москва или Петербург. Небольшие различия заметны в начале недели, по понедельникам:\n",
    "* в Москве слушают музыку жанра “world”,\n",
    "* в Петербурге — джаз и классику.\n",
    "\n",
    "Таким образом, вторая гипотеза подтвердилась лишь отчасти. Этот результат мог оказаться иным, если бы не пропуски в данных.\n",
    "\n",
    "3. Во вкусах пользователей Москвы и Петербурга больше общего чем различий. Вопреки ожиданиям, предпочтения жанров в Петербурге напоминают московские.\n",
    "\n",
    "Третья гипотеза не подтвердилась. Если различия в предпочтениях и существуют, на основной массе пользователей они незаметны.\n",
    "\n",
    "**На практике исследования содержат проверки статистических гипотез.**\n",
    "Из данных одного сервиса не всегда можно сделать вывод о всех жителях города.\n",
    "Проверки статистических гипотез покажут, насколько они достоверны, исходя из имеющихся данных. \n",
    "С методами проверок гипотез вы ещё познакомитесь в следующих темах."
   ]
  }
 ],
 "metadata": {
  "ExecuteTimeLog": [
   {
    "duration": 417,
    "start_time": "2023-01-08T18:32:29.056Z"
   },
   {
    "duration": 170,
    "start_time": "2023-01-08T18:33:13.715Z"
   },
   {
    "duration": 186,
    "start_time": "2023-01-08T18:33:21.031Z"
   },
   {
    "duration": 146,
    "start_time": "2023-01-08T18:33:24.333Z"
   },
   {
    "duration": 11,
    "start_time": "2023-01-08T18:37:19.490Z"
   },
   {
    "duration": 29,
    "start_time": "2023-01-08T18:38:17.625Z"
   },
   {
    "duration": 4,
    "start_time": "2023-01-08T19:04:04.276Z"
   },
   {
    "duration": 17,
    "start_time": "2023-01-08T19:08:17.699Z"
   },
   {
    "duration": 3,
    "start_time": "2023-01-08T19:08:34.173Z"
   },
   {
    "duration": 8,
    "start_time": "2023-01-08T19:08:42.946Z"
   },
   {
    "duration": 4,
    "start_time": "2023-01-08T19:08:46.246Z"
   },
   {
    "duration": 79,
    "start_time": "2023-01-08T19:09:20.117Z"
   },
   {
    "duration": 58,
    "start_time": "2023-01-08T19:09:27.718Z"
   },
   {
    "duration": 58,
    "start_time": "2023-01-08T19:09:35.076Z"
   },
   {
    "duration": 52,
    "start_time": "2023-01-08T19:10:55.686Z"
   },
   {
    "duration": 60,
    "start_time": "2023-01-08T19:11:45.593Z"
   },
   {
    "duration": 73,
    "start_time": "2023-01-08T19:11:57.130Z"
   },
   {
    "duration": 78,
    "start_time": "2023-01-08T19:12:08.584Z"
   },
   {
    "duration": 67,
    "start_time": "2023-01-08T19:12:16.789Z"
   },
   {
    "duration": 20,
    "start_time": "2023-01-08T19:12:35.367Z"
   },
   {
    "duration": 14,
    "start_time": "2023-01-08T19:12:40.391Z"
   },
   {
    "duration": 13,
    "start_time": "2023-01-08T19:12:52.833Z"
   },
   {
    "duration": 2,
    "start_time": "2023-01-08T19:13:18.844Z"
   },
   {
    "duration": 188,
    "start_time": "2023-01-08T19:13:18.848Z"
   },
   {
    "duration": 12,
    "start_time": "2023-01-08T19:13:19.039Z"
   },
   {
    "duration": 44,
    "start_time": "2023-01-08T19:13:19.053Z"
   },
   {
    "duration": 3,
    "start_time": "2023-01-08T19:13:19.099Z"
   },
   {
    "duration": 8,
    "start_time": "2023-01-08T19:13:19.103Z"
   },
   {
    "duration": 13,
    "start_time": "2023-01-08T19:13:19.112Z"
   },
   {
    "duration": 4,
    "start_time": "2023-01-08T19:13:19.127Z"
   },
   {
    "duration": 96,
    "start_time": "2023-01-08T19:13:19.133Z"
   },
   {
    "duration": 18,
    "start_time": "2023-01-08T19:13:19.231Z"
   },
   {
    "duration": 3,
    "start_time": "2023-01-08T19:13:19.251Z"
   },
   {
    "duration": 20,
    "start_time": "2023-01-08T19:13:19.256Z"
   },
   {
    "duration": 2,
    "start_time": "2023-01-08T19:13:19.278Z"
   },
   {
    "duration": 10,
    "start_time": "2023-01-08T19:13:19.281Z"
   },
   {
    "duration": 5,
    "start_time": "2023-01-08T19:13:19.292Z"
   },
   {
    "duration": 9,
    "start_time": "2023-01-08T19:13:19.298Z"
   },
   {
    "duration": 31,
    "start_time": "2023-01-08T19:13:19.309Z"
   },
   {
    "duration": 8,
    "start_time": "2023-01-08T19:13:19.342Z"
   },
   {
    "duration": 7,
    "start_time": "2023-01-08T19:13:19.352Z"
   },
   {
    "duration": 10,
    "start_time": "2023-01-08T19:13:19.360Z"
   },
   {
    "duration": 10,
    "start_time": "2023-01-08T19:13:19.371Z"
   },
   {
    "duration": 6,
    "start_time": "2023-01-08T19:13:19.382Z"
   },
   {
    "duration": 7,
    "start_time": "2023-01-08T19:13:19.390Z"
   },
   {
    "duration": 6,
    "start_time": "2023-01-08T19:13:19.398Z"
   },
   {
    "duration": 7,
    "start_time": "2023-01-08T19:13:19.405Z"
   },
   {
    "duration": 7,
    "start_time": "2023-01-08T19:13:19.414Z"
   },
   {
    "duration": 5,
    "start_time": "2023-01-08T19:13:19.422Z"
   },
   {
    "duration": 7,
    "start_time": "2023-01-08T19:13:19.429Z"
   },
   {
    "duration": 14,
    "start_time": "2023-01-08T19:13:19.439Z"
   },
   {
    "duration": 44,
    "start_time": "2023-01-08T19:13:19.455Z"
   },
   {
    "duration": 0,
    "start_time": "2023-01-08T19:13:19.501Z"
   },
   {
    "duration": 0,
    "start_time": "2023-01-08T19:13:19.502Z"
   },
   {
    "duration": 0,
    "start_time": "2023-01-08T19:13:19.503Z"
   },
   {
    "duration": 0,
    "start_time": "2023-01-08T19:13:19.505Z"
   },
   {
    "duration": 0,
    "start_time": "2023-01-08T19:13:19.505Z"
   },
   {
    "duration": 0,
    "start_time": "2023-01-08T19:13:19.506Z"
   },
   {
    "duration": 0,
    "start_time": "2023-01-08T19:13:19.507Z"
   },
   {
    "duration": 0,
    "start_time": "2023-01-08T19:13:19.508Z"
   },
   {
    "duration": 16,
    "start_time": "2023-01-08T19:13:31.918Z"
   },
   {
    "duration": 26,
    "start_time": "2023-01-08T19:13:36.859Z"
   },
   {
    "duration": 23,
    "start_time": "2023-01-08T19:15:42.702Z"
   },
   {
    "duration": 23,
    "start_time": "2023-01-08T19:15:49.872Z"
   },
   {
    "duration": 21,
    "start_time": "2023-01-08T19:15:53.032Z"
   },
   {
    "duration": 13,
    "start_time": "2023-01-08T19:15:59.695Z"
   },
   {
    "duration": 2,
    "start_time": "2023-01-08T19:16:07.387Z"
   },
   {
    "duration": 158,
    "start_time": "2023-01-08T19:16:07.391Z"
   },
   {
    "duration": 10,
    "start_time": "2023-01-08T19:16:07.551Z"
   },
   {
    "duration": 32,
    "start_time": "2023-01-08T19:16:07.562Z"
   },
   {
    "duration": 2,
    "start_time": "2023-01-08T19:16:07.596Z"
   },
   {
    "duration": 10,
    "start_time": "2023-01-08T19:16:07.600Z"
   },
   {
    "duration": 13,
    "start_time": "2023-01-08T19:16:07.612Z"
   },
   {
    "duration": 4,
    "start_time": "2023-01-08T19:16:07.627Z"
   },
   {
    "duration": 78,
    "start_time": "2023-01-08T19:16:07.633Z"
   },
   {
    "duration": 20,
    "start_time": "2023-01-08T19:16:10.383Z"
   },
   {
    "duration": 9,
    "start_time": "2023-01-08T19:16:14.457Z"
   },
   {
    "duration": 3,
    "start_time": "2023-01-08T19:16:17.495Z"
   },
   {
    "duration": 162,
    "start_time": "2023-01-08T19:16:17.499Z"
   },
   {
    "duration": 13,
    "start_time": "2023-01-08T19:16:17.663Z"
   },
   {
    "duration": 29,
    "start_time": "2023-01-08T19:16:17.678Z"
   },
   {
    "duration": 3,
    "start_time": "2023-01-08T19:16:17.709Z"
   },
   {
    "duration": 6,
    "start_time": "2023-01-08T19:16:17.713Z"
   },
   {
    "duration": 9,
    "start_time": "2023-01-08T19:16:17.721Z"
   },
   {
    "duration": 3,
    "start_time": "2023-01-08T19:16:17.731Z"
   },
   {
    "duration": 81,
    "start_time": "2023-01-08T19:16:17.736Z"
   },
   {
    "duration": 14,
    "start_time": "2023-01-08T19:16:18.668Z"
   },
   {
    "duration": 16,
    "start_time": "2023-01-08T19:23:56.736Z"
   },
   {
    "duration": 17,
    "start_time": "2023-01-08T19:23:58.542Z"
   },
   {
    "duration": 57,
    "start_time": "2023-01-08T19:24:09.815Z"
   },
   {
    "duration": 58,
    "start_time": "2023-01-08T19:24:20.911Z"
   },
   {
    "duration": 81,
    "start_time": "2023-01-08T19:24:35.244Z"
   },
   {
    "duration": 57,
    "start_time": "2023-01-08T19:24:37.076Z"
   },
   {
    "duration": 55,
    "start_time": "2023-01-08T19:25:12.584Z"
   },
   {
    "duration": 84,
    "start_time": "2023-01-08T19:25:20.244Z"
   },
   {
    "duration": 52,
    "start_time": "2023-01-08T19:25:26.748Z"
   },
   {
    "duration": 22,
    "start_time": "2023-01-08T19:26:02.874Z"
   },
   {
    "duration": 68,
    "start_time": "2023-01-08T19:26:07.291Z"
   },
   {
    "duration": 24,
    "start_time": "2023-01-08T19:26:22.846Z"
   },
   {
    "duration": 2,
    "start_time": "2023-01-08T19:26:34.593Z"
   },
   {
    "duration": 153,
    "start_time": "2023-01-08T19:26:34.599Z"
   },
   {
    "duration": 10,
    "start_time": "2023-01-08T19:26:34.754Z"
   },
   {
    "duration": 50,
    "start_time": "2023-01-08T19:26:34.765Z"
   },
   {
    "duration": 2,
    "start_time": "2023-01-08T19:26:34.816Z"
   },
   {
    "duration": 5,
    "start_time": "2023-01-08T19:26:34.820Z"
   },
   {
    "duration": 9,
    "start_time": "2023-01-08T19:26:34.826Z"
   },
   {
    "duration": 3,
    "start_time": "2023-01-08T19:26:34.837Z"
   },
   {
    "duration": 27,
    "start_time": "2023-01-08T19:26:39.442Z"
   },
   {
    "duration": 39,
    "start_time": "2023-01-08T19:27:02.849Z"
   },
   {
    "duration": 26,
    "start_time": "2023-01-08T19:27:08.005Z"
   },
   {
    "duration": 64,
    "start_time": "2023-01-08T19:27:27.370Z"
   },
   {
    "duration": 66,
    "start_time": "2023-01-08T19:27:52.571Z"
   },
   {
    "duration": 52,
    "start_time": "2023-01-08T19:28:01.239Z"
   },
   {
    "duration": 67,
    "start_time": "2023-01-08T19:28:32.941Z"
   },
   {
    "duration": 75,
    "start_time": "2023-01-08T19:28:35.087Z"
   },
   {
    "duration": 680,
    "start_time": "2023-01-08T19:29:21.148Z"
   },
   {
    "duration": 9,
    "start_time": "2023-01-08T19:29:32.396Z"
   },
   {
    "duration": 704,
    "start_time": "2023-01-08T19:29:48.495Z"
   },
   {
    "duration": 3,
    "start_time": "2023-01-08T19:29:54.080Z"
   },
   {
    "duration": 157,
    "start_time": "2023-01-08T19:29:54.084Z"
   },
   {
    "duration": 10,
    "start_time": "2023-01-08T19:29:54.243Z"
   },
   {
    "duration": 38,
    "start_time": "2023-01-08T19:29:54.254Z"
   },
   {
    "duration": 2,
    "start_time": "2023-01-08T19:29:54.294Z"
   },
   {
    "duration": 6,
    "start_time": "2023-01-08T19:29:54.298Z"
   },
   {
    "duration": 16,
    "start_time": "2023-01-08T19:29:54.306Z"
   },
   {
    "duration": 9,
    "start_time": "2023-01-08T19:29:54.323Z"
   },
   {
    "duration": 25,
    "start_time": "2023-01-08T19:29:54.334Z"
   },
   {
    "duration": 48,
    "start_time": "2023-01-08T19:29:54.360Z"
   },
   {
    "duration": 23,
    "start_time": "2023-01-08T19:29:54.409Z"
   },
   {
    "duration": 68,
    "start_time": "2023-01-08T19:29:54.433Z"
   },
   {
    "duration": 58,
    "start_time": "2023-01-08T19:29:54.503Z"
   },
   {
    "duration": 60,
    "start_time": "2023-01-08T19:29:54.563Z"
   },
   {
    "duration": 696,
    "start_time": "2023-01-08T19:29:56.284Z"
   },
   {
    "duration": 8,
    "start_time": "2023-01-08T19:30:53.772Z"
   },
   {
    "duration": 9,
    "start_time": "2023-01-08T19:32:14.271Z"
   },
   {
    "duration": 10,
    "start_time": "2023-01-08T19:33:09.840Z"
   },
   {
    "duration": 10,
    "start_time": "2023-01-08T19:33:14.060Z"
   },
   {
    "duration": 2,
    "start_time": "2023-01-08T19:33:23.964Z"
   },
   {
    "duration": 165,
    "start_time": "2023-01-08T19:33:23.968Z"
   },
   {
    "duration": 10,
    "start_time": "2023-01-08T19:33:24.134Z"
   },
   {
    "duration": 33,
    "start_time": "2023-01-08T19:33:24.146Z"
   },
   {
    "duration": 2,
    "start_time": "2023-01-08T19:33:24.181Z"
   },
   {
    "duration": 6,
    "start_time": "2023-01-08T19:33:24.184Z"
   },
   {
    "duration": 12,
    "start_time": "2023-01-08T19:33:24.191Z"
   },
   {
    "duration": 6,
    "start_time": "2023-01-08T19:33:24.204Z"
   },
   {
    "duration": 30,
    "start_time": "2023-01-08T19:33:24.211Z"
   },
   {
    "duration": 60,
    "start_time": "2023-01-08T19:33:24.243Z"
   },
   {
    "duration": 25,
    "start_time": "2023-01-08T19:33:24.305Z"
   },
   {
    "duration": 78,
    "start_time": "2023-01-08T19:33:24.332Z"
   },
   {
    "duration": 69,
    "start_time": "2023-01-08T19:33:24.412Z"
   },
   {
    "duration": 50,
    "start_time": "2023-01-08T19:33:24.483Z"
   },
   {
    "duration": 13,
    "start_time": "2023-01-08T19:33:25.696Z"
   },
   {
    "duration": 34,
    "start_time": "2023-01-08T19:35:18.373Z"
   },
   {
    "duration": 37,
    "start_time": "2023-01-08T19:35:30.944Z"
   },
   {
    "duration": 9,
    "start_time": "2023-01-08T19:58:39.208Z"
   },
   {
    "duration": 10,
    "start_time": "2023-01-08T19:58:58.908Z"
   },
   {
    "duration": 12,
    "start_time": "2023-01-08T20:01:11.197Z"
   },
   {
    "duration": 5,
    "start_time": "2023-01-08T20:01:29.571Z"
   },
   {
    "duration": 43,
    "start_time": "2023-01-08T20:01:56.942Z"
   },
   {
    "duration": 54,
    "start_time": "2023-01-09T06:57:33.179Z"
   },
   {
    "duration": 8,
    "start_time": "2023-01-09T07:01:25.218Z"
   },
   {
    "duration": 387,
    "start_time": "2023-01-09T07:01:38.558Z"
   },
   {
    "duration": 240,
    "start_time": "2023-01-09T07:01:38.947Z"
   },
   {
    "duration": 23,
    "start_time": "2023-01-09T07:01:39.189Z"
   },
   {
    "duration": 37,
    "start_time": "2023-01-09T07:01:39.214Z"
   },
   {
    "duration": 2,
    "start_time": "2023-01-09T07:01:39.254Z"
   },
   {
    "duration": 20,
    "start_time": "2023-01-09T07:01:39.258Z"
   },
   {
    "duration": 15,
    "start_time": "2023-01-09T07:01:39.279Z"
   },
   {
    "duration": 7,
    "start_time": "2023-01-09T07:01:39.295Z"
   },
   {
    "duration": 29,
    "start_time": "2023-01-09T07:01:39.303Z"
   },
   {
    "duration": 71,
    "start_time": "2023-01-09T07:01:39.334Z"
   },
   {
    "duration": 40,
    "start_time": "2023-01-09T07:01:39.408Z"
   },
   {
    "duration": 111,
    "start_time": "2023-01-09T07:01:39.450Z"
   },
   {
    "duration": 96,
    "start_time": "2023-01-09T07:01:39.563Z"
   },
   {
    "duration": 93,
    "start_time": "2023-01-09T07:01:39.662Z"
   },
   {
    "duration": 67,
    "start_time": "2023-01-09T07:01:39.757Z"
   },
   {
    "duration": 11,
    "start_time": "2023-01-09T07:01:39.825Z"
   },
   {
    "duration": 55,
    "start_time": "2023-01-09T07:01:39.838Z"
   },
   {
    "duration": 31,
    "start_time": "2023-01-09T07:01:40.514Z"
   },
   {
    "duration": 11,
    "start_time": "2023-01-09T07:01:59.142Z"
   },
   {
    "duration": 3,
    "start_time": "2023-01-09T07:02:04.111Z"
   },
   {
    "duration": 174,
    "start_time": "2023-01-09T07:02:04.116Z"
   },
   {
    "duration": 12,
    "start_time": "2023-01-09T07:02:04.292Z"
   },
   {
    "duration": 45,
    "start_time": "2023-01-09T07:02:04.305Z"
   },
   {
    "duration": 2,
    "start_time": "2023-01-09T07:02:04.353Z"
   },
   {
    "duration": 4,
    "start_time": "2023-01-09T07:02:04.376Z"
   },
   {
    "duration": 12,
    "start_time": "2023-01-09T07:02:04.381Z"
   },
   {
    "duration": 7,
    "start_time": "2023-01-09T07:02:04.394Z"
   },
   {
    "duration": 39,
    "start_time": "2023-01-09T07:02:04.403Z"
   },
   {
    "duration": 64,
    "start_time": "2023-01-09T07:02:04.444Z"
   },
   {
    "duration": 26,
    "start_time": "2023-01-09T07:02:04.509Z"
   },
   {
    "duration": 111,
    "start_time": "2023-01-09T07:02:04.537Z"
   },
   {
    "duration": 102,
    "start_time": "2023-01-09T07:02:04.650Z"
   },
   {
    "duration": 68,
    "start_time": "2023-01-09T07:02:04.756Z"
   },
   {
    "duration": 65,
    "start_time": "2023-01-09T07:02:04.826Z"
   },
   {
    "duration": 16,
    "start_time": "2023-01-09T07:02:04.893Z"
   },
   {
    "duration": 89,
    "start_time": "2023-01-09T07:02:04.911Z"
   },
   {
    "duration": 17,
    "start_time": "2023-01-09T07:02:05.977Z"
   },
   {
    "duration": 14,
    "start_time": "2023-01-09T07:02:59.463Z"
   },
   {
    "duration": 75,
    "start_time": "2023-01-09T07:03:04.233Z"
   },
   {
    "duration": 57,
    "start_time": "2023-01-09T07:03:08.229Z"
   },
   {
    "duration": 10,
    "start_time": "2023-01-09T07:03:13.258Z"
   },
   {
    "duration": 12,
    "start_time": "2023-01-09T07:03:22.938Z"
   },
   {
    "duration": 11,
    "start_time": "2023-01-09T07:03:32.022Z"
   },
   {
    "duration": 12,
    "start_time": "2023-01-09T07:03:53.907Z"
   },
   {
    "duration": 3,
    "start_time": "2023-01-09T07:04:17.948Z"
   },
   {
    "duration": 192,
    "start_time": "2023-01-09T07:04:17.953Z"
   },
   {
    "duration": 14,
    "start_time": "2023-01-09T07:04:18.147Z"
   },
   {
    "duration": 52,
    "start_time": "2023-01-09T07:04:18.164Z"
   },
   {
    "duration": 2,
    "start_time": "2023-01-09T07:04:18.219Z"
   },
   {
    "duration": 12,
    "start_time": "2023-01-09T07:04:18.223Z"
   },
   {
    "duration": 16,
    "start_time": "2023-01-09T07:04:18.237Z"
   },
   {
    "duration": 22,
    "start_time": "2023-01-09T07:04:18.255Z"
   },
   {
    "duration": 57,
    "start_time": "2023-01-09T07:04:18.280Z"
   },
   {
    "duration": 62,
    "start_time": "2023-01-09T07:04:18.340Z"
   },
   {
    "duration": 34,
    "start_time": "2023-01-09T07:04:18.404Z"
   },
   {
    "duration": 81,
    "start_time": "2023-01-09T07:04:18.439Z"
   },
   {
    "duration": 73,
    "start_time": "2023-01-09T07:04:18.522Z"
   },
   {
    "duration": 56,
    "start_time": "2023-01-09T07:04:18.598Z"
   },
   {
    "duration": 51,
    "start_time": "2023-01-09T07:04:18.656Z"
   },
   {
    "duration": 11,
    "start_time": "2023-01-09T07:04:18.709Z"
   },
   {
    "duration": 65,
    "start_time": "2023-01-09T07:04:18.721Z"
   },
   {
    "duration": 9,
    "start_time": "2023-01-09T07:04:19.468Z"
   },
   {
    "duration": 17,
    "start_time": "2023-01-09T07:04:25.722Z"
   },
   {
    "duration": 11,
    "start_time": "2023-01-09T07:04:27.840Z"
   },
   {
    "duration": 69,
    "start_time": "2023-01-09T07:04:31.484Z"
   },
   {
    "duration": 3,
    "start_time": "2023-01-09T07:04:50.577Z"
   },
   {
    "duration": 4,
    "start_time": "2023-01-09T07:04:56.967Z"
   },
   {
    "duration": 4,
    "start_time": "2023-01-09T07:05:06.515Z"
   },
   {
    "duration": 3,
    "start_time": "2023-01-09T07:05:15.165Z"
   },
   {
    "duration": 249,
    "start_time": "2023-01-09T07:05:15.170Z"
   },
   {
    "duration": 13,
    "start_time": "2023-01-09T07:05:15.422Z"
   },
   {
    "duration": 59,
    "start_time": "2023-01-09T07:05:15.437Z"
   },
   {
    "duration": 4,
    "start_time": "2023-01-09T07:05:15.500Z"
   },
   {
    "duration": 15,
    "start_time": "2023-01-09T07:05:15.506Z"
   },
   {
    "duration": 20,
    "start_time": "2023-01-09T07:05:15.523Z"
   },
   {
    "duration": 21,
    "start_time": "2023-01-09T07:05:15.546Z"
   },
   {
    "duration": 94,
    "start_time": "2023-01-09T07:05:15.569Z"
   },
   {
    "duration": 66,
    "start_time": "2023-01-09T07:05:15.666Z"
   },
   {
    "duration": 43,
    "start_time": "2023-01-09T07:05:15.734Z"
   },
   {
    "duration": 110,
    "start_time": "2023-01-09T07:05:15.779Z"
   },
   {
    "duration": 107,
    "start_time": "2023-01-09T07:05:15.891Z"
   },
   {
    "duration": 92,
    "start_time": "2023-01-09T07:05:16.002Z"
   },
   {
    "duration": 49,
    "start_time": "2023-01-09T07:05:16.099Z"
   },
   {
    "duration": 32,
    "start_time": "2023-01-09T07:05:16.150Z"
   },
   {
    "duration": 53,
    "start_time": "2023-01-09T07:05:16.183Z"
   },
   {
    "duration": 61,
    "start_time": "2023-01-09T07:09:28.927Z"
   },
   {
    "duration": 9,
    "start_time": "2023-01-09T07:09:41.436Z"
   },
   {
    "duration": 22,
    "start_time": "2023-01-09T07:10:00.464Z"
   },
   {
    "duration": 12,
    "start_time": "2023-01-09T07:17:24.972Z"
   },
   {
    "duration": 7,
    "start_time": "2023-01-09T07:18:23.228Z"
   },
   {
    "duration": 2,
    "start_time": "2023-01-09T07:18:31.955Z"
   },
   {
    "duration": 3,
    "start_time": "2023-01-09T07:18:33.438Z"
   },
   {
    "duration": 4,
    "start_time": "2023-01-09T07:18:38.120Z"
   },
   {
    "duration": 2998,
    "start_time": "2023-01-09T07:19:15.179Z"
   },
   {
    "duration": 3060,
    "start_time": "2023-01-09T07:19:21.553Z"
   },
   {
    "duration": 3027,
    "start_time": "2023-01-09T07:19:26.832Z"
   },
   {
    "duration": 12,
    "start_time": "2023-01-09T07:19:46.458Z"
   },
   {
    "duration": 13,
    "start_time": "2023-01-09T07:19:56.768Z"
   },
   {
    "duration": 11,
    "start_time": "2023-01-09T07:20:01.879Z"
   },
   {
    "duration": 12,
    "start_time": "2023-01-09T07:21:02.578Z"
   },
   {
    "duration": 107,
    "start_time": "2023-01-10T06:41:21.883Z"
   },
   {
    "duration": 41,
    "start_time": "2023-01-10T06:43:12.570Z"
   },
   {
    "duration": 8,
    "start_time": "2023-01-10T06:43:25.642Z"
   },
   {
    "duration": 11,
    "start_time": "2023-01-10T06:43:29.766Z"
   },
   {
    "duration": 9,
    "start_time": "2023-01-10T06:44:43.313Z"
   },
   {
    "duration": 7,
    "start_time": "2023-01-10T06:45:03.461Z"
   },
   {
    "duration": 7,
    "start_time": "2023-01-10T06:45:06.185Z"
   },
   {
    "duration": 8,
    "start_time": "2023-01-10T06:45:09.781Z"
   },
   {
    "duration": 386,
    "start_time": "2023-01-10T06:45:16.548Z"
   },
   {
    "duration": 528,
    "start_time": "2023-01-10T06:45:16.936Z"
   },
   {
    "duration": 22,
    "start_time": "2023-01-10T06:45:17.465Z"
   },
   {
    "duration": 34,
    "start_time": "2023-01-10T06:45:17.490Z"
   },
   {
    "duration": 3,
    "start_time": "2023-01-10T06:45:17.525Z"
   },
   {
    "duration": 8,
    "start_time": "2023-01-10T06:45:17.530Z"
   },
   {
    "duration": 15,
    "start_time": "2023-01-10T06:45:17.539Z"
   },
   {
    "duration": 4,
    "start_time": "2023-01-10T06:45:17.579Z"
   },
   {
    "duration": 27,
    "start_time": "2023-01-10T06:45:17.585Z"
   },
   {
    "duration": 38,
    "start_time": "2023-01-10T06:45:17.615Z"
   },
   {
    "duration": 37,
    "start_time": "2023-01-10T06:45:17.654Z"
   },
   {
    "duration": 73,
    "start_time": "2023-01-10T06:45:17.693Z"
   },
   {
    "duration": 72,
    "start_time": "2023-01-10T06:45:17.778Z"
   },
   {
    "duration": 73,
    "start_time": "2023-01-10T06:45:17.852Z"
   },
   {
    "duration": 36,
    "start_time": "2023-01-10T06:45:17.927Z"
   },
   {
    "duration": 22,
    "start_time": "2023-01-10T06:45:17.964Z"
   },
   {
    "duration": 36,
    "start_time": "2023-01-10T06:45:17.988Z"
   },
   {
    "duration": 12,
    "start_time": "2023-01-10T06:45:18.026Z"
   },
   {
    "duration": 38,
    "start_time": "2023-01-10T06:45:18.040Z"
   },
   {
    "duration": 32,
    "start_time": "2023-01-10T06:45:19.229Z"
   },
   {
    "duration": 48,
    "start_time": "2023-01-10T06:45:24.412Z"
   },
   {
    "duration": 11,
    "start_time": "2023-01-10T07:10:29.702Z"
   },
   {
    "duration": 17,
    "start_time": "2023-01-10T07:10:40.185Z"
   },
   {
    "duration": 75,
    "start_time": "2023-01-10T07:10:55.507Z"
   },
   {
    "duration": 68,
    "start_time": "2023-01-10T07:11:03.723Z"
   },
   {
    "duration": 98,
    "start_time": "2023-01-10T07:11:10.006Z"
   },
   {
    "duration": 27,
    "start_time": "2023-01-10T07:11:52.325Z"
   },
   {
    "duration": 27,
    "start_time": "2023-01-10T07:11:57.469Z"
   },
   {
    "duration": 17,
    "start_time": "2023-01-10T07:12:06.541Z"
   },
   {
    "duration": 15,
    "start_time": "2023-01-10T07:12:14.154Z"
   },
   {
    "duration": 3,
    "start_time": "2023-01-10T07:14:58.704Z"
   },
   {
    "duration": 18,
    "start_time": "2023-01-10T07:15:04.164Z"
   },
   {
    "duration": 14,
    "start_time": "2023-01-10T07:15:34.715Z"
   },
   {
    "duration": 8,
    "start_time": "2023-01-10T07:15:59.393Z"
   },
   {
    "duration": 11,
    "start_time": "2023-01-10T07:16:08.249Z"
   },
   {
    "duration": 10,
    "start_time": "2023-01-10T07:16:47.400Z"
   },
   {
    "duration": 19,
    "start_time": "2023-01-10T07:18:15.352Z"
   },
   {
    "duration": 23,
    "start_time": "2023-01-10T07:19:25.889Z"
   },
   {
    "duration": 13,
    "start_time": "2023-01-10T07:19:32.949Z"
   },
   {
    "duration": 15,
    "start_time": "2023-01-10T07:19:45.205Z"
   },
   {
    "duration": 26,
    "start_time": "2023-01-10T07:20:05.511Z"
   },
   {
    "duration": 10,
    "start_time": "2023-01-10T07:20:11.074Z"
   },
   {
    "duration": 11,
    "start_time": "2023-01-10T07:20:20.082Z"
   },
   {
    "duration": 19,
    "start_time": "2023-01-10T07:20:27.672Z"
   },
   {
    "duration": 19,
    "start_time": "2023-01-10T07:20:39.248Z"
   },
   {
    "duration": 896,
    "start_time": "2023-01-10T07:22:02.504Z"
   },
   {
    "duration": 11,
    "start_time": "2023-01-10T07:22:30.464Z"
   },
   {
    "duration": 16,
    "start_time": "2023-01-10T07:22:40.115Z"
   },
   {
    "duration": 15,
    "start_time": "2023-01-10T07:22:57.294Z"
   },
   {
    "duration": 863,
    "start_time": "2023-01-10T07:23:25.527Z"
   },
   {
    "duration": 25,
    "start_time": "2023-01-10T07:23:52.242Z"
   },
   {
    "duration": 22,
    "start_time": "2023-01-10T07:23:59.261Z"
   },
   {
    "duration": 16,
    "start_time": "2023-01-10T07:24:16.966Z"
   },
   {
    "duration": 20,
    "start_time": "2023-01-10T07:24:26.095Z"
   },
   {
    "duration": 23,
    "start_time": "2023-01-10T07:24:29.017Z"
   },
   {
    "duration": 20,
    "start_time": "2023-01-10T07:25:51.597Z"
   },
   {
    "duration": 14,
    "start_time": "2023-01-10T07:26:36.048Z"
   },
   {
    "duration": 32,
    "start_time": "2023-01-10T07:26:40.387Z"
   },
   {
    "duration": 31,
    "start_time": "2023-01-10T07:26:53.213Z"
   },
   {
    "duration": 28,
    "start_time": "2023-01-10T07:27:08.047Z"
   },
   {
    "duration": 20,
    "start_time": "2023-01-10T07:27:46.249Z"
   },
   {
    "duration": 16,
    "start_time": "2023-01-10T07:28:11.887Z"
   },
   {
    "duration": 19,
    "start_time": "2023-01-10T07:28:23.815Z"
   },
   {
    "duration": 22,
    "start_time": "2023-01-10T07:28:32.301Z"
   },
   {
    "duration": 20,
    "start_time": "2023-01-10T07:28:57.989Z"
   },
   {
    "duration": 26,
    "start_time": "2023-01-10T07:28:59.506Z"
   },
   {
    "duration": 18,
    "start_time": "2023-01-10T07:29:01.286Z"
   },
   {
    "duration": 5,
    "start_time": "2023-01-10T07:29:24.280Z"
   },
   {
    "duration": 20,
    "start_time": "2023-01-10T07:35:59.152Z"
   },
   {
    "duration": 18,
    "start_time": "2023-01-10T07:38:01.586Z"
   },
   {
    "duration": 18,
    "start_time": "2023-01-10T07:38:10.403Z"
   },
   {
    "duration": 18,
    "start_time": "2023-01-10T07:38:32.671Z"
   },
   {
    "duration": 6,
    "start_time": "2023-01-10T07:40:14.692Z"
   },
   {
    "duration": 14,
    "start_time": "2023-01-10T07:40:19.717Z"
   },
   {
    "duration": 11,
    "start_time": "2023-01-10T07:43:18.235Z"
   },
   {
    "duration": 8,
    "start_time": "2023-01-10T07:43:20.019Z"
   },
   {
    "duration": 24,
    "start_time": "2023-01-10T07:43:50.600Z"
   },
   {
    "duration": 9,
    "start_time": "2023-01-10T07:43:57.610Z"
   },
   {
    "duration": 10,
    "start_time": "2023-01-10T07:44:01.039Z"
   },
   {
    "duration": 18,
    "start_time": "2023-01-10T07:44:18.492Z"
   },
   {
    "duration": 10,
    "start_time": "2023-01-10T07:44:39.413Z"
   },
   {
    "duration": 9,
    "start_time": "2023-01-10T07:44:41.141Z"
   },
   {
    "duration": 6,
    "start_time": "2023-01-10T07:51:39.205Z"
   },
   {
    "duration": 29,
    "start_time": "2023-01-10T07:52:52.259Z"
   },
   {
    "duration": 14,
    "start_time": "2023-01-10T07:55:30.294Z"
   },
   {
    "duration": 57,
    "start_time": "2023-01-10T07:55:46.792Z"
   },
   {
    "duration": 6,
    "start_time": "2023-01-10T07:56:22.328Z"
   },
   {
    "duration": 35,
    "start_time": "2023-01-10T07:56:24.151Z"
   },
   {
    "duration": 5,
    "start_time": "2023-01-10T07:58:11.458Z"
   },
   {
    "duration": 17,
    "start_time": "2023-01-10T07:58:13.820Z"
   },
   {
    "duration": 17,
    "start_time": "2023-01-10T07:58:44.313Z"
   },
   {
    "duration": 29,
    "start_time": "2023-01-10T07:59:58.176Z"
   },
   {
    "duration": 29,
    "start_time": "2023-01-10T08:00:00.748Z"
   },
   {
    "duration": 13,
    "start_time": "2023-01-10T08:04:31.308Z"
   },
   {
    "duration": 19,
    "start_time": "2023-01-10T08:04:32.843Z"
   },
   {
    "duration": 26,
    "start_time": "2023-01-10T08:04:34.572Z"
   },
   {
    "duration": 12,
    "start_time": "2023-01-10T08:04:49.444Z"
   },
   {
    "duration": 25,
    "start_time": "2023-01-10T08:04:51.009Z"
   },
   {
    "duration": 32,
    "start_time": "2023-01-10T08:06:13.971Z"
   },
   {
    "duration": 4,
    "start_time": "2023-01-10T08:07:27.114Z"
   },
   {
    "duration": 46,
    "start_time": "2023-01-10T08:07:29.862Z"
   },
   {
    "duration": 4,
    "start_time": "2023-01-10T08:07:35.550Z"
   },
   {
    "duration": 17,
    "start_time": "2023-01-10T08:07:37.247Z"
   },
   {
    "duration": 24,
    "start_time": "2023-01-10T08:08:02.947Z"
   },
   {
    "duration": 13,
    "start_time": "2023-01-10T08:08:04.662Z"
   },
   {
    "duration": 20,
    "start_time": "2023-01-10T08:08:06.409Z"
   },
   {
    "duration": 12,
    "start_time": "2023-01-10T08:08:09.246Z"
   },
   {
    "duration": 34,
    "start_time": "2023-01-10T08:11:41.968Z"
   },
   {
    "duration": 5,
    "start_time": "2023-01-10T08:11:44.744Z"
   },
   {
    "duration": 20,
    "start_time": "2023-01-10T08:11:46.520Z"
   },
   {
    "duration": 12,
    "start_time": "2023-01-10T08:11:49.745Z"
   },
   {
    "duration": 18,
    "start_time": "2023-01-10T08:11:51.945Z"
   },
   {
    "duration": 17,
    "start_time": "2023-01-10T08:11:53.767Z"
   },
   {
    "duration": 13,
    "start_time": "2023-01-10T08:16:21.019Z"
   },
   {
    "duration": 5,
    "start_time": "2023-01-10T08:16:37.028Z"
   },
   {
    "duration": 9,
    "start_time": "2023-01-10T08:17:19.733Z"
   },
   {
    "duration": 6,
    "start_time": "2023-01-10T08:17:31.971Z"
   },
   {
    "duration": 6,
    "start_time": "2023-01-10T08:17:33.708Z"
   }
  ],
  "colab": {
   "collapsed_sections": [
    "E0vqbgi9ay0H",
    "VUC88oWjTJw2"
   ],
   "name": "automatization_template_upd4.ipynb",
   "provenance": []
  },
  "kernelspec": {
   "display_name": "Python 3 (ipykernel)",
   "language": "python",
   "name": "python3"
  },
  "language_info": {
   "codemirror_mode": {
    "name": "ipython",
    "version": 3
   },
   "file_extension": ".py",
   "mimetype": "text/x-python",
   "name": "python",
   "nbconvert_exporter": "python",
   "pygments_lexer": "ipython3",
   "version": "3.9.13"
  },
  "toc": {
   "base_numbering": 1,
   "nav_menu": {
    "height": "215px",
    "width": "403px"
   },
   "number_sections": true,
   "sideBar": true,
   "skip_h1_title": true,
   "title_cell": "Table of Contents",
   "title_sidebar": "Contents",
   "toc_cell": false,
   "toc_position": {
    "height": "calc(100% - 180px)",
    "left": "10px",
    "top": "150px",
    "width": "285.825px"
   },
   "toc_section_display": true,
   "toc_window_display": false
  }
 },
 "nbformat": 4,
 "nbformat_minor": 1
}
